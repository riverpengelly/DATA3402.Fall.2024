{
 "cells": [
  {
   "cell_type": "markdown",
   "metadata": {},
   "source": [
    "# Lab 3\n",
    "\n",
    "In this lab we will become familiar with distributions, histograms, and functional programming. Do not use numpy or any other library for this lab.\n",
    "\n",
    "Before that, lets get setup homework submission and submit your previous lab.  \n",
    "\n",
    "## Working on the Command-line.\n",
    "\n",
    "It is important for you to learn to work on the command line and to be familiar with the Unix environment (e.g. Linux, Mac OS, or Windows Linux Subsystem). We'll go over working on the command-line in detail later in the course.\n",
    "\n",
    "You are required to submit your work in this course via GitHub. Today in class, you will setup everything on the command-line.\n",
    "\n",
    "### Command-line basics\n",
    "\n",
    "There is plenty of material online that will help you figure out how to do various tasks on the command line. Commands you may need to know today:\n",
    "\n",
    "* `ls`: lists the contents of the current directory.\n",
    "* `pwd`: prints the path of the current directory.\n",
    "* `cd <directory>`: changes your current directory to the specified directory.\n",
    "* `cd ..`: changes current directory to the previous directory. Basically steps out of the current directory to the directory containing the current directory.\n",
    "* `mkdir <directory>`: create a new directory with the specified name.\n",
    "* `rmdir <directory>`: removes the specified directory. Note it has to be empty.\n",
    "* `rm <filename>`: deletes the specified file.\n",
    "* `mv <filename 1> <filename 1>`: Moves or renames a file.\n",
    "* `cp <filename 1> <filename 2>`: copies an file. If you just provide a path to a directory, it copies the file into that directory with the same filename. If you specifiy a new filename, the copy has a new name. For example `cp File.1.txt File.2.txt` creates a copy of `File.1.txt` with the name `File.2.txt`. Meanwhile `cp File.1.txt my_directory`, where `my_directory` is a directory, creates a copy of `File.1.txt` in directory `my_directory` with the name `File.1.txt`.\n",
    "\n",
    "For reference, here are some example resources I found by googling:\n",
    "\n",
    "* Paths and Wildcards: https://www.warp.dev/terminus/linux-wildcards\n",
    "* Basic commands like copy: https://kb.iu.edu/d/afsk\n",
    "* General introduction to shell: https://github-pages.ucl.ac.uk/RCPSTrainingMaterials/HPCandHTCusingLegion/2_intro_to_shell.html\n",
    "* Manual pages: https://www.geeksforgeeks.org/linux-man-page-entries-different-types/?ref=ml_lbp\n",
    "* Chaining commands: https://www.geeksforgeeks.org/chaining-commands-in-linux/?ref=ml_lbp\n",
    "* Piping: https://www.geeksforgeeks.org/piping-in-unix-or-linux/\n",
    "* Using sed: https://www.geeksforgeeks.org/sed-command-linux-set-2/?ref=ml_lbp\n",
    "* Various Unix commands: https://www.geeksforgeeks.org/linux-commands/?ref=lbp\n",
    "* Cheat sheets:\n",
    "    * https://www.stationx.net/unix-commands-cheat-sheet/\n",
    "    * https://cheatography.com/davechild/cheat-sheets/linux-command-line/\n",
    "    * https://www.theknowledgeacademy.com/blog/unix-commands-cheat-sheet/\n",
    "    \n",
    "These aren't necessarily the best resources. Feel free to search for better ones. Also, don't forget that Unix has built-in manual pages for all of its commands. Just type `man <command>` at the command prompt. Use the space-bar to scroll through the documentation and \"q\" to exit.\n",
    "\n",
    "\n",
    "### Setup and Submission\n",
    "\n",
    "Our course repository is public. The instructions here aim to have you setup a fork of the course repository. Unfortunately because you are forking a public repo, your fork will have to be public also. \n",
    "\n",
    "You should be familiar with git from the first semester of this course. I assume that you all have github accounts and have setup things to be able to [push to github using ssh](https://docs.github.com/en/github/authenticating-to-github/connecting-to-github-with-ssh). The instuctions here lead you to:\n",
    "\n",
    "We'll overview what you will do before going through step by step instructions.\n",
    "\n",
    "1. Setup:\n",
    "    1. Fork the class repository. Some directions in [fork-a-repo](https://docs.github.com/en/github/getting-started-with-github/fork-a-repo).\n",
    "    1. Create a directory on your personal system where you will keep all course materials.\n",
    "    1. In that directory, clone your fork of the repository.\n",
    "    1. Using `git remote`, set the upstream to be the class repo, so you can pull from the class and push to your fork.\n",
    "\n",
    "1. Submission:\n",
    "    1. Copy your solutions into the appropriate directory (e.g. into `Labs/Lab.2/`) and with appropriate filename `Lab.2.solution.ipynb'.\n",
    "    1. Commit / push your solutions.\n",
    "    1. Grant access to course instructors.\n",
    "\n",
    "Below are step by step instructions with examples (including example directory naming convention). Feel free to modify things as you see fit. \n",
    "\n",
    "#### Setup\n",
    "You should only need to follow this instructions once. Here are some useful git commands:\n",
    "\n",
    "* Git help: `git help`\n",
    "* Git remote help: `git help remote`\n",
    "* Check remote status: `git remote -v`\n",
    "* Add a remote: `git remote add <stream name> <repo URL>`\n",
    "* Add a remove: `git remote remove <stream name>`\n",
    "\n",
    "Steps:\n",
    "1. In a browser, log into GitHub and navigate to the [course repository](https://github.com/UTA-DataScience/DATA3402.Fall.2024).\n",
    "1. On the top right of the page, press the fork button to create a new fork into your own GitHub account.\n",
    "1. After successful fork, you should find the browser showing your fork of the course repository. Use the green \"Code\" button to copy path to the repo into your the clipboard of your computer.\n",
    "1. Open a shell on your personal computer.\n",
    "1. If you have not done so already, create a new directory/folder where you will keep all course material to navigate to it. For example: `mkdir Data-3402` and `cd Data-3402`.\n",
    "1. Clone your fork of the repository using `git clone` followed by the path you copied into your clipboard. (copy/paste)\n",
    "1. Paste the URL to your fork in the worksheet for the TAs and instructors.\n",
    "1. Now go into the directory of your clone (`cd DATA3402.Fall.2024`).\n",
    "1. Type `git remote -v` to see the current setup for fetch and pull.\n",
    "1. Note the URL you see. This should be the same as what you used for your clone for both push and fetch.\n",
    "1. Delete the origin remote using `git remote remove origin`.\n",
    "1. Add the course repo as your remote using `git remote add origin https://github.com/UTA-DataScience/DATA3402.Fall.2024.git`.\n",
    "1. Change the push to point to your fork. This means you will need the URL to your clone we copied earlier and confirmed as the original origin. The command will look something like: `git remote set-url --push origin  https://github.com/XXXXXX/DATA3402.Fall.2024.git`, where XXXXX is your username on GitHub.\n",
    "1. Note that if you setup everything correctly, you now should be able to do `git pull` to get updates from the course repo, and do `git push` to push your commits into your own fork.\n",
    "\n",
    "### Submission\n",
    "These instructions outline how you submit files. Some useful commands:\n",
    "* To add a file to local repository: `git add <file>`.\n",
    "* To commit all changed files into local repository: `git -a -m \"A message\"`. You need to provide some comment when you commit. \n",
    "* To push the commited files from the local repository to GitHub: `git push`.\n",
    "* To get updates from GitHub: `git pull`.\n",
    "\n",
    "Steps:\n",
    "1. To submit your labs, navigate to your clone of your fork of the course repository. \n",
    "1. Use `git pull` to make sure you have the latest updates. \n",
    "1. Make sure your copy of the lab your are working on is in the appropriate place in this clone. That means if you have the file elsewhere, copy it to the same directory in your clone of your fork. \n",
    "1. Note that in order to avoid future conflicts, you should always name your solution differently than the original file in the class repo. For example if your file is still named `Lab.2.ipynb` you should rename it using the `mv` command: `mv Lab.2.ipynb Lab.2.solution.ipynb`. \n",
    "1. Add and files you wish to submit into the repo. For example: `git add Labs/Lab.2/Lab.2.solution.ipynb`\n",
    "1. Commit any changes: `git commit -a -m \"Lab 2 updates\"`\n",
    "1. Push your changes: `git push`\n",
    "1. Check on github website that your solutions have been properly submitted.\n",
    "\n",
    "Before you leave the session today, make sure your GitHub Repo is setup. If you need to work further on your lab, navigate jupyter to the copy of the lab you just submitted and work there. Once done, repeat the commit and push commands to submit your updated solution. Note that lab 2 is due by midnight Monday 9/8/2024.\n"
   ]
  },
  {
   "cell_type": "markdown",
   "metadata": {},
   "source": [
    "### Uniform Distribution\n",
    "Lets start with generating some fake random data. You can get a random number between 0 and 1 using the python random module as follow:"
   ]
  },
  {
   "cell_type": "code",
   "execution_count": 1,
   "metadata": {},
   "outputs": [
    {
     "name": "stdout",
     "output_type": "stream",
     "text": [
      "The Value of x is 0.19852621614402466\n"
     ]
    }
   ],
   "source": [
    "import random\n",
    "x=random.random()\n",
    "print(\"The Value of x is\", x)"
   ]
  },
  {
   "cell_type": "markdown",
   "metadata": {},
   "source": [
    "Everytime you call random, you will get a new number.\n",
    "\n",
    "*Exercise 1:* Using random, write a function `generate_uniform(N, mymin, mymax)`, that returns a python list containing N random numbers between specified minimum and maximum value. Note that you may want to quickly work out on paper how to turn numbers between 0 and 1 to between other values. "
   ]
  },
  {
   "cell_type": "code",
   "execution_count": 2,
   "metadata": {},
   "outputs": [],
   "source": [
    "import random\n",
    "def generate_uniform(N, mymin, mymax):\n",
    "    out = []\n",
    "    for _ in range(N):\n",
    "        # Generate a random number between mymin and mymax\n",
    "        out.append(random.uniform(mymin, mymax))\n",
    "    return out"
   ]
  },
  {
   "cell_type": "code",
   "execution_count": 3,
   "metadata": {},
   "outputs": [
    {
     "name": "stdout",
     "output_type": "stream",
     "text": [
      "Data Type: <class 'list'>\n",
      "Data Length: 1000\n",
      "Type of Data Contents: <class 'float'>\n",
      "Data Minimum: -9.978695759781434\n",
      "Data Maximum: 9.993287422673657\n"
     ]
    }
   ],
   "source": [
    "# Test your solution here\n",
    "data=generate_uniform(1000,-10,10)\n",
    "print (\"Data Type:\", type(data))\n",
    "print (\"Data Length:\", len(data))\n",
    "if len(data)>0: \n",
    "    print (\"Type of Data Contents:\", type(data[0]))\n",
    "    print (\"Data Minimum:\", min(data))\n",
    "    print (\"Data Maximum:\", max(data))"
   ]
  },
  {
   "cell_type": "markdown",
   "metadata": {},
   "source": [
    "*Exercise 2a:* \n",
    "Write a function that computes the mean of values in a list. Recall the equation for the mean of a random variable $\\bf{x}$ computed on a data set of $n$ values $\\{ x_i \\} = \\{x_1, x_2, ..., x_n\\}$  is ${\\bf\\bar{x}} = \\frac{1}{n} \\sum_i^n x_i$."
   ]
  },
  {
   "cell_type": "code",
   "execution_count": 4,
   "metadata": {},
   "outputs": [],
   "source": [
    "def mean(Data):\n",
    "    m = 0\n",
    "    if len(Data) > 0:\n",
    "        # Calculate the mean as the sum of all elements divided by the number of elements\n",
    "        m = sum(Data) / len(Data)\n",
    "    return m"
   ]
  },
  {
   "cell_type": "code",
   "execution_count": 5,
   "metadata": {},
   "outputs": [
    {
     "name": "stdout",
     "output_type": "stream",
     "text": [
      "Mean of Data: 0.10479034488414712\n"
     ]
    }
   ],
   "source": [
    "# Test your solution here\n",
    "print (\"Mean of Data:\", mean(data))"
   ]
  },
  {
   "cell_type": "code",
   "execution_count": 6,
   "metadata": {},
   "outputs": [
    {
     "name": "stdout",
     "output_type": "stream",
     "text": [
      "Calculated Mean: 30.0\n"
     ]
    }
   ],
   "source": [
    "# Another test\n",
    "test_data = [10, 20, 30, 40, 50]\n",
    "calculated_mean = mean(test_data)\n",
    "print(\"Calculated Mean:\", calculated_mean)"
   ]
  },
  {
   "cell_type": "markdown",
   "metadata": {},
   "source": [
    "*Exercise 2b:* \n",
    "Write a function that computes the variance of values in a list. Recall the equation for the variance of a random variable $\\bf{x}$ computed on a data set of $n$ values $\\{ x_i \\} = \\{x_1, x_2, ..., x_n\\}$  is ${\\bf\\langle x \\rangle} = \\frac{1}{n} \\sum_i^n (x_i - {\\bf\\bar{x}})$."
   ]
  },
  {
   "cell_type": "code",
   "execution_count": 7,
   "metadata": {},
   "outputs": [],
   "source": [
    "def variance(Data):\n",
    "    m = 0\n",
    "    if len(Data) > 0:\n",
    "        # Calculate the mean of the data\n",
    "        mean_value = sum(Data) / len(Data)\n",
    "        # Calculate the variance using the formula\n",
    "        m = sum((x - mean_value) ** 2 for x in Data) / len(Data)\n",
    "    return m"
   ]
  },
  {
   "cell_type": "code",
   "execution_count": 8,
   "metadata": {},
   "outputs": [
    {
     "name": "stdout",
     "output_type": "stream",
     "text": [
      "Variance of Data: 34.72992554801613\n"
     ]
    }
   ],
   "source": [
    "# Test your solution here\n",
    "print (\"Variance of Data:\", variance(data))"
   ]
  },
  {
   "cell_type": "code",
   "execution_count": 9,
   "metadata": {},
   "outputs": [
    {
     "name": "stdout",
     "output_type": "stream",
     "text": [
      "Calculated Variance: 200.0\n"
     ]
    }
   ],
   "source": [
    "# Another Test\n",
    "test_data = [10, 20, 30, 40, 50]\n",
    "calculated_variance = variance(test_data)\n",
    "print(\"Calculated Variance:\", calculated_variance)"
   ]
  },
  {
   "cell_type": "markdown",
   "metadata": {},
   "source": [
    "## Histogramming"
   ]
  },
  {
   "cell_type": "markdown",
   "metadata": {},
   "source": [
    "*Exercise 3:* Write a function that bins the data so that you can create a histogram. An example of how to implement histogramming is the following logic:\n",
    "\n",
    "* User inputs a list of values `x` and optionally `n_bins` which defaults to 10.\n",
    "* If not supplied, find the minimum and maximum (`x_min`,`x_max`) of the values in x.\n",
    "* Determine the bin size (`bin_size`) by dividing the range of the function by the number of bins.\n",
    "* Create an empty list of zeros of size `n_bins`, call it `hist`.\n",
    "* Loop over the values in `x`\n",
    "    * Loop over the values in `hist` with index `i`:\n",
    "        * If x is between `x_min+i*bin_size` and `x_min+(i+1)*bin_size`, increment `hist[i].` \n",
    "        * For efficiency, try to use continue to goto the next bin and data point.\n",
    "* Return `hist` and the list corresponding of the bin edges (i.e. of `x_min+i*bin_size`).    "
   ]
  },
  {
   "cell_type": "code",
   "execution_count": 10,
   "metadata": {},
   "outputs": [],
   "source": [
    "def histogram(x, n_bins=10, x_min=None, x_max=None):\n",
    "    # If x_min and x_max are not provided, use the min and max of x\n",
    "    if x_min is None:\n",
    "        x_min = min(x)\n",
    "    if x_max is None:\n",
    "        x_max = max(x)\n",
    "\n",
    "    # Determine bin size\n",
    "    bin_size = (x_max - x_min) / n_bins\n",
    "\n",
    "    # Create an empty list of zeros of size n_bins\n",
    "    hist = [0] * n_bins\n",
    "\n",
    "    # Loop over the values in x\n",
    "    for value in x:\n",
    "        # Determine the appropriate bin for this value\n",
    "        bin_index = int((value - x_min) / bin_size)\n",
    "        \n",
    "        # Handle edge case where value is exactly x_max\n",
    "        if bin_index == n_bins:\n",
    "            bin_index -= 1\n",
    "        \n",
    "        # Increment the corresponding bin\n",
    "        hist[bin_index] += 1\n",
    "\n",
    "    # Create the list of bin edges\n",
    "    bin_edges = [x_min + i * bin_size for i in range(n_bins + 1)]\n",
    "\n",
    "    return hist, bin_edges"
   ]
  },
  {
   "cell_type": "code",
   "execution_count": 11,
   "metadata": {},
   "outputs": [
    {
     "name": "stdout",
     "output_type": "stream",
     "text": [
      "[12, 10, 17, 8, 10, 9, 12, 10, 6, 12, 9, 11, 14, 15, 6, 5, 7, 9, 10, 15, 11, 3, 15, 9, 12, 5, 11, 10, 11, 8, 10, 14, 11, 11, 9, 6, 11, 10, 5, 9, 13, 10, 4, 10, 9, 6, 7, 6, 6, 10, 9, 11, 14, 11, 6, 13, 10, 15, 12, 1, 15, 13, 11, 4, 12, 12, 11, 9, 10, 7, 8, 6, 13, 16, 5, 7, 17, 13, 8, 7, 10, 16, 10, 12, 14, 11, 9, 9, 7, 9, 7, 9, 10, 9, 14, 13, 11, 15, 8, 12]\n"
     ]
    }
   ],
   "source": [
    "# Test your solution here\n",
    "h,b=histogram(data,100)\n",
    "print(h)"
   ]
  },
  {
   "cell_type": "code",
   "execution_count": 12,
   "metadata": {},
   "outputs": [
    {
     "name": "stdout",
     "output_type": "stream",
     "text": [
      "[1, 2, 1, 1, 3, 1, 1, 1, 1, 3]\n",
      "[10.0, 19.0, 28.0, 37.0, 46.0, 55.0, 64.0, 73.0, 82.0, 91.0, 100.0]\n"
     ]
    }
   ],
   "source": [
    "#  Another Test\n",
    "data = [10, 20, 20, 30, 40, 50, 50, 50, 60, 70, 80, 90, 100, 100, 100]\n",
    "h, bin_edges = histogram(data, 10)\n",
    "print(h)\n",
    "print(bin_edges)"
   ]
  },
  {
   "cell_type": "markdown",
   "metadata": {},
   "source": [
    "*Exercise 4:* Write a function that uses the histogram function in the previous exercise to create a text-based \"graph\". For example the output could look like the following:\n",
    "```\n",
    "[  0,  1] : ######\n",
    "[  1,  2] : #####\n",
    "[  2,  3] : ######\n",
    "[  3,  4] : ####\n",
    "[  4,  5] : ####\n",
    "[  5,  6] : ######\n",
    "[  6,  7] : #####\n",
    "[  7,  8] : ######\n",
    "[  8,  9] : ####\n",
    "[  9, 10] : #####\n",
    "```\n",
    "\n",
    "Where each line corresponds to a bin and the number of `#`'s are proportional to the value of the data in the bin. "
   ]
  },
  {
   "cell_type": "code",
   "execution_count": 13,
   "metadata": {},
   "outputs": [],
   "source": [
    "# Solution\n",
    "def draw_histogram(x,n_bins,x_min=None,x_max=None,character=\"#\",max_character_per_line=20):\n",
    "    ### BEGIN SOLUTION\n",
    "\n",
    "    # Fill in your solution here        \n",
    "    \n",
    "    ### END SOLUTION\n",
    "\n",
    "    return hist,bin_edges"
   ]
  },
  {
   "cell_type": "code",
   "execution_count": 14,
   "metadata": {},
   "outputs": [],
   "source": [
    "# Test your solution here\n",
    "h,b=histogram(data,20)"
   ]
  },
  {
   "cell_type": "markdown",
   "metadata": {},
   "source": [
    "## Functional Programming\n",
    "\n",
    "*Exercise 5:* Write a function the applies a booling function (that returns true/false) to every element in data, and return a list of indices of elements where the result was true. Use this function to find the indices of entries greater than 0.5. "
   ]
  },
  {
   "cell_type": "code",
   "execution_count": 15,
   "metadata": {},
   "outputs": [],
   "source": [
    "def draw_histogram(x, n_bins=10, x_min=None, x_max=None, character=\"#\", max_character_per_line=20):\n",
    "    # Generate the histogram data using the previous histogram function\n",
    "    hist, bin_edges = histogram(x, n_bins, x_min, x_max)\n",
    "    \n",
    "    # Find the maximum count in any bin for scaling\n",
    "    max_count = max(hist) if len(hist) > 0 else 1\n",
    "    \n",
    "    # Loop through each bin to print the histogram graph\n",
    "    for i in range(n_bins):\n",
    "        # Calculate the proportion of characters to print\n",
    "        num_characters = int((hist[i] / max_count) * max_character_per_line)\n",
    "        \n",
    "        # Print the bin range and the corresponding bar\n",
    "        print(f\"[{bin_edges[i]:.1f}, {bin_edges[i+1]:.1f}] : {character * num_characters}\")"
   ]
  },
  {
   "cell_type": "code",
   "execution_count": 16,
   "metadata": {},
   "outputs": [
    {
     "name": "stdout",
     "output_type": "stream",
     "text": [
      "[10.0, 19.0] : ######\n",
      "[19.0, 28.0] : #############\n",
      "[28.0, 37.0] : ######\n",
      "[37.0, 46.0] : ######\n",
      "[46.0, 55.0] : ####################\n",
      "[55.0, 64.0] : ######\n",
      "[64.0, 73.0] : ######\n",
      "[73.0, 82.0] : ######\n",
      "[82.0, 91.0] : ######\n",
      "[91.0, 100.0] : ####################\n"
     ]
    }
   ],
   "source": [
    "# Test the function\n",
    "data = [10, 20, 20, 30, 40, 50, 50, 50, 60, 70, 80, 90, 100, 100, 100]\n",
    "draw_histogram(data, 10)"
   ]
  },
  {
   "cell_type": "markdown",
   "metadata": {},
   "source": [
    "*Exercise 6:* The `inrange(mymin,mymax)` function below returns a function that tests if it's input is between the specified values. Write corresponding functions that test:\n",
    "* Even\n",
    "* Odd\n",
    "* Greater than\n",
    "* Less than\n",
    "* Equal\n",
    "* Divisible by"
   ]
  },
  {
   "cell_type": "code",
   "execution_count": 17,
   "metadata": {},
   "outputs": [
    {
     "name": "stdout",
     "output_type": "stream",
     "text": [
      "True True False False False\n",
      "False False True True False\n"
     ]
    },
    {
     "ename": "NameError",
     "evalue": "name 'where' is not defined",
     "output_type": "error",
     "traceback": [
      "\u001b[1;31m---------------------------------------------------------------------------\u001b[0m",
      "\u001b[1;31mNameError\u001b[0m                                 Traceback (most recent call last)",
      "Cell \u001b[1;32mIn[17], line 14\u001b[0m\n\u001b[0;32m     11\u001b[0m \u001b[38;5;28mprint\u001b[39m (F1(\u001b[38;5;241m0\u001b[39m), F1(\u001b[38;5;241m1\u001b[39m), F1(\u001b[38;5;241m10\u001b[39m), F1(\u001b[38;5;241m15\u001b[39m), F1(\u001b[38;5;241m20\u001b[39m))\n\u001b[0;32m     12\u001b[0m \u001b[38;5;28mprint\u001b[39m (F2(\u001b[38;5;241m0\u001b[39m), F2(\u001b[38;5;241m1\u001b[39m), F2(\u001b[38;5;241m10\u001b[39m), F2(\u001b[38;5;241m15\u001b[39m), F2(\u001b[38;5;241m20\u001b[39m))\n\u001b[1;32m---> 14\u001b[0m \u001b[38;5;28mprint\u001b[39m (\u001b[38;5;124m\"\u001b[39m\u001b[38;5;124mNumber of Entries passing F1:\u001b[39m\u001b[38;5;124m\"\u001b[39m, \u001b[38;5;28mlen\u001b[39m(\u001b[43mwhere\u001b[49m(data,F1)))\n\u001b[0;32m     15\u001b[0m \u001b[38;5;28mprint\u001b[39m (\u001b[38;5;124m\"\u001b[39m\u001b[38;5;124mNumber of Entries passing F2:\u001b[39m\u001b[38;5;124m\"\u001b[39m, \u001b[38;5;28mlen\u001b[39m(where(data,F2)))\n",
      "\u001b[1;31mNameError\u001b[0m: name 'where' is not defined"
     ]
    }
   ],
   "source": [
    "def in_range(mymin,mymax):\n",
    "    def testrange(x):\n",
    "        return x<mymax and x>=mymin\n",
    "    return testrange\n",
    "\n",
    "# Examples:\n",
    "F1=in_range(0,10)\n",
    "F2=in_range(10,20)\n",
    "\n",
    "# Test of in_range\n",
    "print (F1(0), F1(1), F1(10), F1(15), F1(20))\n",
    "print (F2(0), F2(1), F2(10), F2(15), F2(20))\n",
    "\n",
    "print (\"Number of Entries passing F1:\", len(where(data,F1)))\n",
    "print (\"Number of Entries passing F2:\", len(where(data,F2)))"
   ]
  },
  {
   "cell_type": "code",
   "execution_count": 27,
   "metadata": {},
   "outputs": [],
   "source": [
    "# Function to check if a number is even\n",
    "def is_even():\n",
    "    def test_even(x):\n",
    "        return x % 2 == 0\n",
    "    return test_even\n",
    "\n",
    "# Function to check if a number is odd\n",
    "def is_odd():\n",
    "    def test_odd(x):\n",
    "        return x % 2 != 0\n",
    "    return test_odd\n",
    "\n",
    "# Function to check if a number is greater than a given value\n",
    "def greater_than(threshold):\n",
    "    def test_greater(x):\n",
    "        return x > threshold\n",
    "    return test_greater\n",
    "\n",
    "# Function to check if a number is less than a given value\n",
    "def less_than(threshold):\n",
    "    def test_less(x):\n",
    "        return x < threshold\n",
    "    return test_less\n",
    "\n",
    "# Function to check if a number is equal to a given value\n",
    "def equal_to(value):\n",
    "    def test_equal(x):\n",
    "        return x == value\n",
    "    return test_equal\n",
    "\n",
    "# Function to check if a number is divisible by a given divisor\n",
    "def divisible_by(divisor):\n",
    "    def test_divisible(x):\n",
    "        return x % divisor == 0\n",
    "    return test_divisible\n"
   ]
  },
  {
   "cell_type": "code",
   "execution_count": 28,
   "metadata": {},
   "outputs": [
    {
     "name": "stdout",
     "output_type": "stream",
     "text": [
      "\n",
      "Even numbers in data: [0, 10, 20, 30, 40]\n",
      "Odd numbers in data: [5, 15, 25, 35]\n",
      "Numbers greater than 15 in data: [20, 25, 30, 35, 40]\n",
      "Numbers less than 15 in data: [0, 5, 10]\n",
      "Numbers equal to 10 in data: [10]\n",
      "Numbers divisible by 5 in data: [0, 5, 10, 15, 20, 25, 30, 35, 40]\n"
     ]
    }
   ],
   "source": [
    "# Test data\n",
    "data = [0, 5, 10, 15, 20, 25, 30, 35, 40]\n",
    "\n",
    "# Test using the \"is_even\" function\n",
    "even_filter = is_even()\n",
    "even_numbers = list(filter(even_filter, data))\n",
    "print(\"\\nEven numbers in data:\", even_numbers)\n",
    "\n",
    "# Test using the \"is_odd\" function\n",
    "odd_filter = is_odd()\n",
    "odd_numbers = list(filter(odd_filter, data))\n",
    "print(\"Odd numbers in data:\", odd_numbers)\n",
    "\n",
    "# Test using \"greater_than\" function\n",
    "greater_than_15 = greater_than(15)\n",
    "numbers_greater_than_15 = list(filter(greater_than_15, data))\n",
    "print(\"Numbers greater than 15 in data:\", numbers_greater_than_15)\n",
    "\n",
    "# Test using \"less_than\" function\n",
    "less_than_15 = less_than(15)\n",
    "numbers_less_than_15 = list(filter(less_than_15, data))\n",
    "print(\"Numbers less than 15 in data:\", numbers_less_than_15)\n",
    "\n",
    "# Test using \"equal_to\" function\n",
    "equal_to_10 = equal_to(10)\n",
    "numbers_equal_to_10 = list(filter(equal_to_10, data))\n",
    "print(\"Numbers equal to 10 in data:\", numbers_equal_to_10)\n",
    "\n",
    "# Test using \"divisible_by\" function\n",
    "divisible_by_5 = divisible_by(5)\n",
    "numbers_divisible_by_5 = list(filter(divisible_by_5, data))\n",
    "print(\"Numbers divisible by 5 in data:\", numbers_divisible_by_5)"
   ]
  },
  {
   "cell_type": "markdown",
   "metadata": {},
   "source": [
    "*Exercise 7:* Repeat the previous exercise using `lambda` and the built-in python functions sum and map instead of your solution above. "
   ]
  },
  {
   "cell_type": "code",
   "execution_count": 29,
   "metadata": {},
   "outputs": [
    {
     "name": "stdout",
     "output_type": "stream",
     "text": [
      "Number of Entries passing F1: 3\n",
      "Number of Entries passing F2: 3\n"
     ]
    }
   ],
   "source": [
    "# Test data\n",
    "data = [0, 5, 10, 15, 20, 25, 30, 35, 40]\n",
    "\n",
    "# Define F1 and F2 using lambda functions\n",
    "F1 = lambda x: 0 <= x <= 10\n",
    "F2 = lambda x: 10 <= x <= 20\n",
    "\n",
    "# Using map and sum to count the number of entries passing F1 and F2\n",
    "num_entries_passing_F1 = sum(map(F1, data))\n",
    "num_entries_passing_F2 = sum(map(F2, data))\n",
    "\n",
    "# Display the results\n",
    "print(\"Number of Entries passing F1:\", num_entries_passing_F1)\n",
    "print(\"Number of Entries passing F2:\", num_entries_passing_F2)"
   ]
  },
  {
   "cell_type": "markdown",
   "metadata": {},
   "source": [
    "## Monte Carlo\n",
    "\n",
    "*Exercise 7:* Write a \"generator\" function called `generate_function(func,x_min,x_max,N)`, that instead of generating a flat distribution, generates a distribution with functional form coded in `func`. Note that `func` will always be > 0.  \n",
    "\n",
    "Use the test function below and your histogramming functions above to demonstrate that your generator is working properly.\n",
    "\n",
    "Hint: A simple, but slow, solution is to a draw random number `test_x` within the specified range and another number `p` between the `min` and `max` of the function (which you will have to determine). If `p<=function(test_x)`, then place `test_x` on the output. If not, repeat the process, drawing two new numbers. Repeat until you have the specified number of generated numbers, `N`. For this problem, it's OK to determine the `min` and `max` by numerically sampling the function.  "
   ]
  },
  {
   "cell_type": "code",
   "execution_count": 30,
   "metadata": {},
   "outputs": [],
   "source": [
    "import random\n",
    "\n",
    "# Define the generate_function\n",
    "def generate_function(func, x_min, x_max, N=1000):\n",
    "    out = []\n",
    "    \n",
    "    # Find the maximum value of the function over the interval [x_min, x_max]\n",
    "    step_size = (x_max - x_min) / 1000  # Small steps to sample the function\n",
    "    x_values = [x_min + i * step_size for i in range(1001)]\n",
    "    max_val = max(func(x) for x in x_values)\n",
    "    \n",
    "    # Generate N samples\n",
    "    while len(out) < N:\n",
    "        test_x = random.uniform(x_min, x_max)  # Random x within the range\n",
    "        p = random.uniform(0, max_val)  # Random p between 0 and max_val\n",
    "        \n",
    "        # Check if p is less than the function value at test_x\n",
    "        if p < func(test_x):\n",
    "            out.append(test_x)\n",
    "    \n",
    "    return out"
   ]
  },
  {
   "cell_type": "code",
   "execution_count": 32,
   "metadata": {},
   "outputs": [
    {
     "name": "stdout",
     "output_type": "stream",
     "text": [
      "[9.775060217762238, 9.41876691810345, 8.931396524958224, 9.769155256105721, 5.265822468718861, 9.736180259302877, 3.8175631827810186, 8.167475680220992, 8.094879223494098, 8.10470119833225]\n",
      "Number of generated samples: 1000\n"
     ]
    }
   ],
   "source": [
    "# A test function as given\n",
    "def test_func(x, a=1, b=-1):\n",
    "    return abs(a * x + b)\n",
    "\n",
    "# Generate samples using the test function\n",
    "generated_data = generate_function(test_func, 0, 10, 1000)\n",
    "\n",
    "# Display some of the generated data\n",
    "print(generated_data[:10])  # Show first 10 samples as a quick check\n",
    "print(\"Number of generated samples:\", len(generated_data))"
   ]
  },
  {
   "cell_type": "markdown",
   "metadata": {},
   "source": [
    "*Exercise 8:* Use your function to generate 1000 numbers that are normal distributed, using the `gaussian` function below. Confirm the mean and variance of the data is close to the mean and variance you specify when building the Gaussian. Histogram the data. "
   ]
  },
  {
   "cell_type": "code",
   "execution_count": 33,
   "metadata": {},
   "outputs": [
    {
     "name": "stdout",
     "output_type": "stream",
     "text": [
      "Mean of generated data (g1): 0.015468569575622312\n",
      "Variance of generated data (g1): 0.9828908032243078\n",
      "[-2.9, -2.6] : \n",
      "[-2.6, -2.2] : #\n",
      "[-2.2, -1.9] : ##\n",
      "[-1.9, -1.6] : ###\n",
      "[-1.6, -1.2] : ########\n",
      "[-1.2, -0.9] : ###########\n",
      "[-0.9, -0.6] : ################\n",
      "[-0.6, -0.2] : ##################\n",
      "[-0.2, 0.1] : ####################\n",
      "[0.1, 0.5] : ##################\n",
      "[0.5, 0.8] : ##################\n",
      "[0.8, 1.1] : ##########\n",
      "[1.1, 1.5] : ########\n",
      "[1.5, 1.8] : #####\n",
      "[1.8, 2.1] : ##\n",
      "[2.1, 2.5] : #\n",
      "[2.5, 2.8] : #\n",
      "[2.8, 3.1] : \n",
      "[3.1, 3.5] : \n",
      "[3.5, 3.8] : \n"
     ]
    }
   ],
   "source": [
    "import math\n",
    "\n",
    "# Define the gaussian function\n",
    "def gaussian(mean, sigma):\n",
    "    def f(x):\n",
    "        return math.exp(-((x - mean) ** 2) / (2 * sigma ** 2)) / (math.sqrt(2 * math.pi) * sigma)\n",
    "    return f\n",
    "\n",
    "# Instantiate the gaussian function\n",
    "g1 = gaussian(0, 1)\n",
    "g2 = gaussian(10, 3)\n",
    "\n",
    "# Use the generate_function to generate 1000 numbers that follow the normal distribution of g1\n",
    "generated_data_g1 = generate_function(g1, -5, 5, 1000)\n",
    "\n",
    "# Calculate the mean and variance of the generated data\n",
    "mean_g1 = sum(generated_data_g1) / len(generated_data_g1)\n",
    "variance_g1 = sum((x - mean_g1) ** 2 for x in generated_data_g1) / len(generated_data_g1)\n",
    "\n",
    "# Display the mean and variance\n",
    "print(\"Mean of generated data (g1):\", mean_g1)\n",
    "print(\"Variance of generated data (g1):\", variance_g1)\n",
    "\n",
    "# Create a histogram of the generated data\n",
    "draw_histogram(generated_data_g1, n_bins=20)\n",
    "\n",
    "g2=gaussian(10,3)"
   ]
  },
  {
   "cell_type": "markdown",
   "metadata": {},
   "source": [
    "*Exercise 9:* Combine your `generate_function`, `where`, and `in_range` functions above to create an integrate function. Use your integrate function to show that approximately 68% of Normal distribution is within one variance."
   ]
  },
  {
   "cell_type": "code",
   "execution_count": 34,
   "metadata": {},
   "outputs": [
    {
     "name": "stdout",
     "output_type": "stream",
     "text": [
      "Integral (Area) within one standard deviation of the mean: 0.6960385975378173\n"
     ]
    }
   ],
   "source": [
    "# Define the integrate function using the generate_function approach\n",
    "def integrate(func, x_min, x_max, n_points=1000):\n",
    "    # Generate random samples using the provided function over the interval\n",
    "    samples = generate_function(func, x_min, x_max, n_points)\n",
    "    \n",
    "    # Calculate the width of the interval\n",
    "    interval_width = x_max - x_min\n",
    "    \n",
    "    # Estimate the integral as the mean value of the function samples multiplied by the interval width\n",
    "    integral = (sum(func(x) for x in samples) / len(samples)) * interval_width\n",
    "    \n",
    "    return integral\n",
    "\n",
    "# Define the Gaussian function for testing\n",
    "g1 = gaussian(0, 1)  # Normal distribution with mean 0 and standard deviation 1\n",
    "\n",
    "# Use the integrate function to find the area within one standard deviation of the mean\n",
    "integral_within_one_sd = integrate(g1, -1, 1, n_points=1000)\n",
    "print(\"Integral (Area) within one standard deviation of the mean:\", integral_within_one_sd)\n"
   ]
  }
 ],
 "metadata": {
  "kernelspec": {
   "display_name": "Python 3 (ipykernel)",
   "language": "python",
   "name": "python3"
  },
  "language_info": {
   "codemirror_mode": {
    "name": "ipython",
    "version": 3
   },
   "file_extension": ".py",
   "mimetype": "text/x-python",
   "name": "python",
   "nbconvert_exporter": "python",
   "pygments_lexer": "ipython3",
   "version": "3.12.5"
  }
 },
 "nbformat": 4,
 "nbformat_minor": 2
}
