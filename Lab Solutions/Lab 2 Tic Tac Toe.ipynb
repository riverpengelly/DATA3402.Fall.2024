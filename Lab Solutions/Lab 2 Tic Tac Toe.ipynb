{
 "cells": [
  {
   "cell_type": "markdown",
   "metadata": {},
   "source": [
    "## Lab 2- Tic Tac Toe\n",
    "\n",
    "In this lab your will build a n x n Tic Tac Toe game. As you do the exercises, make sure your solutions work for any size Tic Tac Toe game. "
   ]
  },
  {
   "cell_type": "markdown",
   "metadata": {},
   "source": [
    "*Exercise 1:* Write a function that creates an n by n matrix (of list of lists) which will represent the state of a Tie Tac Toe game. Let 0, 1, and 2 represent empty, \"X\", and \"O\", respectively.\n"
   ]
  },
  {
   "cell_type": "code",
   "execution_count": 20,
   "metadata": {
    "collapsed": true
   },
   "outputs": [],
   "source": [
    "def create_tic_tac_toe_board(n):\n",
    "    return [[0 for _ in range(n)] for _ in range(n)]\n"
   ]
  },
  {
   "cell_type": "code",
   "execution_count": 21,
   "metadata": {
    "collapsed": true
   },
   "outputs": [
    {
     "name": "stdout",
     "output_type": "stream",
     "text": [
      "[0, 0, 0]\n",
      "[0, 0, 0]\n",
      "[0, 0, 0]\n"
     ]
    }
   ],
   "source": [
    "board = create_tic_tac_toe_board(3)\n",
    "for row in board:\n",
    "    print(row)"
   ]
  },
  {
   "cell_type": "markdown",
   "metadata": {},
   "source": [
    "*Exercise 2:* Write a function that takes 2 integers `n` and `m` as input and draws a `n` by `m` game board. For example the following is a 3x3 board:\n",
    "```\n",
    "   --- --- --- \n",
    "  |   |   |   | \n",
    "   --- --- ---  \n",
    "  |   |   |   | \n",
    "   --- --- ---  \n",
    "  |   |   |   | \n",
    "   --- --- --- \n",
    "   ```"
   ]
  },
  {
   "cell_type": "code",
   "execution_count": 22,
   "metadata": {
    "collapsed": true
   },
   "outputs": [],
   "source": [
    "def draw_board(n, m):\n",
    "    for row in range(n):\n",
    "        print(\" ---\" * m)\n",
    "        print(\"|   \" * m + \"|\")\n",
    "    print(\" ---\" * m)"
   ]
  },
  {
   "cell_type": "code",
   "execution_count": 23,
   "metadata": {
    "collapsed": true
   },
   "outputs": [
    {
     "name": "stdout",
     "output_type": "stream",
     "text": [
      " --- --- ---\n",
      "|   |   |   |\n",
      " --- --- ---\n",
      "|   |   |   |\n",
      " --- --- ---\n",
      "|   |   |   |\n",
      " --- --- ---\n"
     ]
    }
   ],
   "source": [
    "draw_board(3, 3)"
   ]
  },
  {
   "cell_type": "markdown",
   "metadata": {},
   "source": [
    "*Exercise 3:* Modify exercise 2, so that it takes a matrix of the form from exercise 1 and draws a tic-tac-tie board with \"X\"s and \"O\"s.  "
   ]
  },
  {
   "cell_type": "code",
   "execution_count": 24,
   "metadata": {
    "collapsed": true
   },
   "outputs": [],
   "source": [
    "def display_tic_tac_toe_board(board):\n",
    "    n = len(board)\n",
    "    m = len(board[0])\n",
    "    \n",
    "    for row in board:\n",
    "        print(\" ---\" * m)\n",
    "        row_display = \"\"\n",
    "        for cell in row:\n",
    "            if cell == 1:\n",
    "                row_display += \"| X \"\n",
    "            elif cell == 2:\n",
    "                row_display += \"| O \"\n",
    "            else:\n",
    "                row_display += \"|   \"\n",
    "        row_display += \"|\"\n",
    "        print(row_display)\n",
    "    print(\" ---\" * m)"
   ]
  },
  {
   "cell_type": "code",
   "execution_count": 25,
   "metadata": {
    "collapsed": true
   },
   "outputs": [
    {
     "name": "stdout",
     "output_type": "stream",
     "text": [
      " --- --- ---\n",
      "|   | X |   |\n",
      " --- --- ---\n",
      "| O | X |   |\n",
      " --- --- ---\n",
      "| O |   | X |\n",
      " --- --- ---\n"
     ]
    }
   ],
   "source": [
    "board = [[0, 1, 0],\n",
    "         [2, 1, 0],\n",
    "         [2, 0, 1]]\n",
    "display_tic_tac_toe_board(board)"
   ]
  },
  {
   "cell_type": "markdown",
   "metadata": {},
   "source": [
    "*Exercise 4:* Write a function that takes a `n` by `n` matrix representing a tic-tac-toe game, and returns -1, 0, 1, or 2 indicating the game is incomplete, the game is a draw, player 1 has won, or player 2 has one, respectively. Here are some example inputs you can use to test your code:"
   ]
  },
  {
   "cell_type": "code",
   "execution_count": 26,
   "metadata": {},
   "outputs": [],
   "source": [
    "def check_game_status(board):\n",
    "    n = len(board)\n",
    "    \n",
    "    # Check rows and columns for a winner\n",
    "    for i in range(n):\n",
    "        if all([board[i][j] == 1 for j in range(n)]) or all([board[j][i] == 1 for j in range(n)]):\n",
    "            return 1\n",
    "        if all([board[i][j] == 2 for j in range(n)]) or all([board[j][i] == 2 for j in range(n)]):\n",
    "            return 2\n",
    "    \n",
    "    # Check diagonals for a winner\n",
    "    if all([board[i][i] == 1 for i in range(n)]) or all([board[i][n - i - 1] == 1 for i in range(n)]):\n",
    "        return 1\n",
    "    if all([board[i][i] == 2 for i in range(n)]) or all([board[i][n - i - 1] == 2 for i in range(n)]):\n",
    "        return 2\n",
    "    \n",
    "    # Check for a draw\n",
    "    if all([cell != 0 for row in board for cell in row]):\n",
    "        return 0  # Game is a draw\n",
    "    \n",
    "    return -1  # Game is incomplete"
   ]
  },
  {
   "cell_type": "code",
   "execution_count": 27,
   "metadata": {
    "collapsed": true
   },
   "outputs": [],
   "source": [
    "winner_is_2 = [[2, 2, 0],\n",
    "\t[2, 1, 0],\n",
    "\t[2, 1, 1]]\n",
    "\n",
    "winner_is_1 = [[1, 2, 0],\n",
    "\t[2, 1, 0],\n",
    "\t[2, 1, 1]]\n",
    "\n",
    "winner_is_also_1 = [[0, 1, 0],\n",
    "\t[2, 1, 0],\n",
    "\t[2, 1, 1]]\n",
    "\n",
    "no_winner = [[1, 2, 0],\n",
    "\t[2, 1, 0],\n",
    "\t[2, 1, 2]]\n",
    "\n",
    "also_no_winner = [[1, 2, 0],\n",
    "\t[2, 1, 0],\n",
    "\t[2, 1, 0]]"
   ]
  },
  {
   "cell_type": "code",
   "execution_count": 28,
   "metadata": {},
   "outputs": [
    {
     "name": "stdout",
     "output_type": "stream",
     "text": [
      "2\n",
      "1\n",
      "1\n",
      "-1\n",
      "-1\n"
     ]
    }
   ],
   "source": [
    "print(check_game_status(winner_is_2)) \n",
    "print(check_game_status(winner_is_1))  \n",
    "print(check_game_status(winner_is_also_1))  \n",
    "print(check_game_status(no_winner))  \n",
    "print(check_game_status(also_no_winner))  "
   ]
  },
  {
   "cell_type": "markdown",
   "metadata": {},
   "source": [
    "*Exercise 5:* Write a function that takes a game board, player number, and `(x,y)` coordinates and places \"X\" or \"O\" in the correct location of the game board. Make sure that you only allow filling previously empty locations. Return `True` or `False` to indicate successful placement of \"X\" or \"O\"."
   ]
  },
  {
   "cell_type": "code",
   "execution_count": 29,
   "metadata": {
    "collapsed": true
   },
   "outputs": [],
   "source": [
    "def place_move(board, player, x, y):\n",
    "    if board[x][y] == 0:\n",
    "        board[x][y] = player\n",
    "        return True\n",
    "    return False"
   ]
  },
  {
   "cell_type": "code",
   "execution_count": 30,
   "metadata": {
    "collapsed": true
   },
   "outputs": [
    {
     "name": "stdout",
     "output_type": "stream",
     "text": [
      "True\n",
      "False\n",
      " --- --- ---\n",
      "| X |   |   |\n",
      " --- --- ---\n",
      "|   |   |   |\n",
      " --- --- ---\n",
      "|   |   |   |\n",
      " --- --- ---\n"
     ]
    }
   ],
   "source": [
    "board = create_tic_tac_toe_board(3)\n",
    "print(place_move(board, 1, 0, 0))  # Should return True\n",
    "print(place_move(board, 2, 0, 0))  # Should return False\n",
    "display_tic_tac_toe_board(board)"
   ]
  },
  {
   "cell_type": "markdown",
   "metadata": {},
   "source": [
    "*Exercise 6:* Modify Exercise 4 to show column and row labels so that players can specify location using \"A2\" or \"C1\"."
   ]
  },
  {
   "cell_type": "code",
   "execution_count": 31,
   "metadata": {
    "collapsed": true
   },
   "outputs": [],
   "source": [
    "def get_indices_from_input(player_input):\n",
    "    row = ord(player_input[0].upper()) - 65  # Convert 'A' to 0, 'B' to 1, etc.\n",
    "    col = int(player_input[1]) - 1  # Convert '1' to 0, '2' to 1, etc.\n",
    "    return row, col"
   ]
  },
  {
   "cell_type": "code",
   "execution_count": 32,
   "metadata": {
    "collapsed": true
   },
   "outputs": [
    {
     "name": "stdout",
     "output_type": "stream",
     "text": [
      "Row: 0, Column: 1\n"
     ]
    }
   ],
   "source": [
    "location = 'A2'\n",
    "row, col = get_indices_from_input(location)\n",
    "print(f\"Row: {row}, Column: {col}\")"
   ]
  },
  {
   "cell_type": "markdown",
   "metadata": {},
   "source": [
    "*Exercise 7:* Write a function that takes a board, player number, and location specified as in exercise 6 and then calls exercise 5 to correctly modify the board.  "
   ]
  },
  {
   "cell_type": "code",
   "execution_count": 33,
   "metadata": {
    "collapsed": true
   },
   "outputs": [],
   "source": [
    "def modify_board_with_move(board, player, location):\n",
    "    row, col = get_indices_from_input(location)\n",
    "    return place_move(board, player, row, col)\n"
   ]
  },
  {
   "cell_type": "code",
   "execution_count": 34,
   "metadata": {
    "collapsed": true
   },
   "outputs": [
    {
     "name": "stdout",
     "output_type": "stream",
     "text": [
      "True\n",
      "False\n",
      " --- --- ---\n",
      "| X |   |   |\n",
      " --- --- ---\n",
      "|   |   |   |\n",
      " --- --- ---\n",
      "|   |   |   |\n",
      " --- --- ---\n"
     ]
    }
   ],
   "source": [
    "# Test for Exercise 7\n",
    "board = create_tic_tac_toe_board(3)\n",
    "print(modify_board_with_move(board, 1, 'A1'))  # True\n",
    "print(modify_board_with_move(board, 2, 'A1'))  # False\n",
    "display_tic_tac_toe_board(board)"
   ]
  },
  {
   "cell_type": "markdown",
   "metadata": {},
   "source": [
    "*Exercise 8:* Write a function is called with a board and player number, takes input from the player using python's `input`, and modifies the board using your function from exercise 7. Note that you should keep asking for input until you have gotten a valid input that results in a valid move."
   ]
  },
  {
   "cell_type": "code",
   "execution_count": 35,
   "metadata": {},
   "outputs": [],
   "source": [
    "def tic_tac_toe_game():\n",
    "    size = 3  # Let's assume a 3x3 board\n",
    "    board = create_tic_tac_toe_board(size)\n",
    "    current_player = 1\n",
    "    \n",
    "    while True:\n",
    "        display_tic_tac_toe_board(board)\n",
    "        print(f\"Player {current_player}'s turn (Enter move like A1, B2, etc.):\")\n",
    "        \n",
    "        # Get player input\n",
    "        move = input(\"Enter your move: \").strip()\n",
    "        \n",
    "        # Process move and place it on the board\n",
    "        if modify_board_with_move(board, current_player, move):\n",
    "            # Check game status\n",
    "            status = check_game_status(board)\n",
    "            if status == 1:\n",
    "                display_tic_tac_toe_board(board)\n",
    "                print(\"Player 1 (X) wins!\")\n",
    "                break\n",
    "            elif status == 2:\n",
    "                display_tic_tac_toe_board(board)\n",
    "                print(\"Player 2 (O) wins!\")\n",
    "                break\n",
    "            elif status == 0:\n",
    "                display_tic_tac_toe_board(board)\n",
    "                print(\"It's a draw!\")\n",
    "                break\n",
    "            \n",
    "            # Switch player\n",
    "            current_player = 2 if current_player == 1 else 1\n",
    "        else:\n",
    "            print(\"Invalid move, try again!\")"
   ]
  },
  {
   "cell_type": "code",
   "execution_count": 36,
   "metadata": {
    "collapsed": true
   },
   "outputs": [
    {
     "name": "stdout",
     "output_type": "stream",
     "text": [
      " --- --- ---\n",
      "|   |   |   |\n",
      " --- --- ---\n",
      "|   |   |   |\n",
      " --- --- ---\n",
      "|   |   |   |\n",
      " --- --- ---\n",
      "Player 1's turn (Enter move like A1, B2, etc.):\n",
      " --- --- ---\n",
      "| X |   |   |\n",
      " --- --- ---\n",
      "|   |   |   |\n",
      " --- --- ---\n",
      "|   |   |   |\n",
      " --- --- ---\n",
      "Player 2's turn (Enter move like A1, B2, etc.):\n",
      " --- --- ---\n",
      "| X | O |   |\n",
      " --- --- ---\n",
      "|   |   |   |\n",
      " --- --- ---\n",
      "|   |   |   |\n",
      " --- --- ---\n",
      "Player 1's turn (Enter move like A1, B2, etc.):\n",
      "Invalid move, try again!\n",
      " --- --- ---\n",
      "| X | O |   |\n",
      " --- --- ---\n",
      "|   |   |   |\n",
      " --- --- ---\n",
      "|   |   |   |\n",
      " --- --- ---\n",
      "Player 1's turn (Enter move like A1, B2, etc.):\n",
      " --- --- ---\n",
      "| X | O | X |\n",
      " --- --- ---\n",
      "|   |   |   |\n",
      " --- --- ---\n",
      "|   |   |   |\n",
      " --- --- ---\n",
      "Player 2's turn (Enter move like A1, B2, etc.):\n"
     ]
    },
    {
     "ename": "IndexError",
     "evalue": "string index out of range",
     "output_type": "error",
     "traceback": [
      "\u001b[1;31m---------------------------------------------------------------------------\u001b[0m",
      "\u001b[1;31mIndexError\u001b[0m                                Traceback (most recent call last)",
      "Cell \u001b[1;32mIn[36], line 1\u001b[0m\n\u001b[1;32m----> 1\u001b[0m \u001b[43mtic_tac_toe_game\u001b[49m\u001b[43m(\u001b[49m\u001b[43m)\u001b[49m\n",
      "Cell \u001b[1;32mIn[35], line 14\u001b[0m, in \u001b[0;36mtic_tac_toe_game\u001b[1;34m()\u001b[0m\n\u001b[0;32m     11\u001b[0m move \u001b[38;5;241m=\u001b[39m \u001b[38;5;28minput\u001b[39m(\u001b[38;5;124m\"\u001b[39m\u001b[38;5;124mEnter your move: \u001b[39m\u001b[38;5;124m\"\u001b[39m)\u001b[38;5;241m.\u001b[39mstrip()\n\u001b[0;32m     13\u001b[0m \u001b[38;5;66;03m# Process move and place it on the board\u001b[39;00m\n\u001b[1;32m---> 14\u001b[0m \u001b[38;5;28;01mif\u001b[39;00m \u001b[43mmodify_board_with_move\u001b[49m\u001b[43m(\u001b[49m\u001b[43mboard\u001b[49m\u001b[43m,\u001b[49m\u001b[43m \u001b[49m\u001b[43mcurrent_player\u001b[49m\u001b[43m,\u001b[49m\u001b[43m \u001b[49m\u001b[43mmove\u001b[49m\u001b[43m)\u001b[49m:\n\u001b[0;32m     15\u001b[0m     \u001b[38;5;66;03m# Check game status\u001b[39;00m\n\u001b[0;32m     16\u001b[0m     status \u001b[38;5;241m=\u001b[39m check_game_status(board)\n\u001b[0;32m     17\u001b[0m     \u001b[38;5;28;01mif\u001b[39;00m status \u001b[38;5;241m==\u001b[39m \u001b[38;5;241m1\u001b[39m:\n",
      "Cell \u001b[1;32mIn[33], line 2\u001b[0m, in \u001b[0;36mmodify_board_with_move\u001b[1;34m(board, player, location)\u001b[0m\n\u001b[0;32m      1\u001b[0m \u001b[38;5;28;01mdef\u001b[39;00m \u001b[38;5;21mmodify_board_with_move\u001b[39m(board, player, location):\n\u001b[1;32m----> 2\u001b[0m     row, col \u001b[38;5;241m=\u001b[39m \u001b[43mget_indices_from_input\u001b[49m\u001b[43m(\u001b[49m\u001b[43mlocation\u001b[49m\u001b[43m)\u001b[49m\n\u001b[0;32m      3\u001b[0m     \u001b[38;5;28;01mreturn\u001b[39;00m place_move(board, player, row, col)\n",
      "Cell \u001b[1;32mIn[31], line 2\u001b[0m, in \u001b[0;36mget_indices_from_input\u001b[1;34m(player_input)\u001b[0m\n\u001b[0;32m      1\u001b[0m \u001b[38;5;28;01mdef\u001b[39;00m \u001b[38;5;21mget_indices_from_input\u001b[39m(player_input):\n\u001b[1;32m----> 2\u001b[0m     row \u001b[38;5;241m=\u001b[39m \u001b[38;5;28mord\u001b[39m(\u001b[43mplayer_input\u001b[49m\u001b[43m[\u001b[49m\u001b[38;5;241;43m0\u001b[39;49m\u001b[43m]\u001b[49m\u001b[38;5;241m.\u001b[39mupper()) \u001b[38;5;241m-\u001b[39m \u001b[38;5;241m65\u001b[39m  \u001b[38;5;66;03m# Convert 'A' to 0, 'B' to 1, etc.\u001b[39;00m\n\u001b[0;32m      3\u001b[0m     col \u001b[38;5;241m=\u001b[39m \u001b[38;5;28mint\u001b[39m(player_input[\u001b[38;5;241m1\u001b[39m]) \u001b[38;5;241m-\u001b[39m \u001b[38;5;241m1\u001b[39m  \u001b[38;5;66;03m# Convert '1' to 0, '2' to 1, etc.\u001b[39;00m\n\u001b[0;32m      4\u001b[0m     \u001b[38;5;28;01mreturn\u001b[39;00m row, col\n",
      "\u001b[1;31mIndexError\u001b[0m: string index out of range"
     ]
    }
   ],
   "source": [
    "tic_tac_toe_game()"
   ]
  },
  {
   "cell_type": "markdown",
   "metadata": {},
   "source": [
    "*Exercise 9:* Use all of the previous exercises to implement a full tic-tac-toe game, where an appropriate board is drawn, 2 players are repeatedly asked for a location coordinates of where they wish to place a mark, and the game status is checked until a player wins or a draw occurs."
   ]
  },
  {
   "cell_type": "code",
   "execution_count": 38,
   "metadata": {
    "collapsed": true
   },
   "outputs": [],
   "source": [
    "def tic_tac_toe_game_5x5():\n",
    "    size = 5  # For a 5x5 board\n",
    "    board = create_tic_tac_toe_board(size)\n",
    "    current_player = 1\n",
    "    \n",
    "    while True:\n",
    "        display_tic_tac_toe_board(board)\n",
    "        print(f\"Player {current_player}'s turn (Enter move like A1, B2, etc.):\")\n",
    "        \n",
    "        # Get player input\n",
    "        move = input(\"Enter your move: \").strip()\n",
    "        \n",
    "        # Process move and place it on the board\n",
    "        if modify_board_with_move(board, current_player, move):\n",
    "            # Check game status\n",
    "            status = check_game_status(board)\n",
    "            if status == 1:\n",
    "                display_tic_tac_toe_board(board)\n",
    "                print(\"Player 1 (X) wins!\")\n",
    "                break\n",
    "            elif status == 2:\n",
    "                display_tic_tac_toe_board(board)\n",
    "                print(\"Player 2 (O) wins!\")\n",
    "                break\n",
    "            elif status == 0:\n",
    "                display_tic_tac_toe_board(board)\n",
    "                print(\"It's a draw!\")\n",
    "                break\n",
    "            \n",
    "            # Switch player\n",
    "            current_player = 2 if current_player == 1 else 1\n",
    "        else:\n",
    "            print(\"Invalid move, try again!\")\n"
   ]
  },
  {
   "cell_type": "markdown",
   "metadata": {},
   "source": [
    "*Exercise 10:* Test that your game works for 5x5 Tic Tac Toe.  "
   ]
  },
  {
   "cell_type": "code",
   "execution_count": null,
   "metadata": {
    "collapsed": true
   },
   "outputs": [],
   "source": [
    "tic_tac_toe_game_5x5()"
   ]
  },
  {
   "cell_type": "markdown",
   "metadata": {},
   "source": [
    "*Exercise 11:* (Advanced / Challenge) Develop a version of the game where one player is the computer. Note that you don't need to do an extensive seach for the best move. You can have the computer simply protect against loosing and otherwise try to win with straight or diagonal patterns."
   ]
  },
  {
   "cell_type": "code",
   "execution_count": 40,
   "metadata": {
    "collapsed": true
   },
   "outputs": [],
   "source": [
    "import random\n",
    "\n",
    "def get_computer_move(board):\n",
    "    # Find all available empty cells\n",
    "    empty_cells = [(r, c) for r in range(len(board)) for c in range(len(board[0])) if board[r][c] == 0]\n",
    "    \n",
    "    # For simplicity, just choose a random move for now\n",
    "    return random.choice(empty_cells)\n",
    "\n",
    "def tic_tac_toe_with_computer():\n",
    "    size = 3  # Assume a 3x3 board\n",
    "    board = create_tic_tac_toe_board(size)\n",
    "    current_player = 1\n",
    "    \n",
    "    while True:\n",
    "        display_tic_tac_toe_board(board)\n",
    "        \n",
    "        if current_player == 1:\n",
    "            print(\"Player 1's turn (Enter move like A1, B2, etc.):\")\n",
    "            move = input(\"Enter your move: \").strip()\n",
    "            if modify_board_with_move(board, 1, move):\n",
    "                status = check_game_status(board)\n",
    "            else:\n",
    "                print(\"Invalid move, try again!\")\n",
    "                continue\n",
    "        else:\n",
    "            print(\"Computer's turn...\")\n",
    "            row, col = get_computer_move(board)\n",
    "            place_move(board, 2, row, col)\n",
    "            status = check_game_status(board)\n",
    "        \n",
    "        # Check game status\n",
    "        if status == 1:\n",
    "            display_tic_tac_toe_board(board)\n",
    "            print(\"Player 1 (X) wins!\")\n",
    "            break\n",
    "        elif status == 2:\n",
    "            display_tic_tac_toe_board(board)\n",
    "            print(\"The Computer (O) wins!\")\n",
    "            break\n",
    "        elif status == 0:\n",
    "            display_tic_tac_toe_board(board)\n",
    "            print(\"It's a draw!\")\n",
    "            break\n",
    "        \n",
    "        # Switch player (Player 1 or Computer)\n",
    "        current_player = 2 if current_player == 1 else 1"
   ]
  },
  {
   "cell_type": "code",
   "execution_count": 41,
   "metadata": {
    "collapsed": true
   },
   "outputs": [
    {
     "name": "stdout",
     "output_type": "stream",
     "text": [
      " --- --- ---\n",
      "|   |   |   |\n",
      " --- --- ---\n",
      "|   |   |   |\n",
      " --- --- ---\n",
      "|   |   |   |\n",
      " --- --- ---\n",
      "Player 1's turn (Enter move like A1, B2, etc.):\n",
      " --- --- ---\n",
      "| X |   |   |\n",
      " --- --- ---\n",
      "|   |   |   |\n",
      " --- --- ---\n",
      "|   |   |   |\n",
      " --- --- ---\n",
      "Computer's turn...\n",
      " --- --- ---\n",
      "| X |   | O |\n",
      " --- --- ---\n",
      "|   |   |   |\n",
      " --- --- ---\n",
      "|   |   |   |\n",
      " --- --- ---\n",
      "Player 1's turn (Enter move like A1, B2, etc.):\n",
      " --- --- ---\n",
      "| X |   | O |\n",
      " --- --- ---\n",
      "|   | X |   |\n",
      " --- --- ---\n",
      "|   |   |   |\n",
      " --- --- ---\n",
      "Computer's turn...\n",
      " --- --- ---\n",
      "| X |   | O |\n",
      " --- --- ---\n",
      "|   | X |   |\n",
      " --- --- ---\n",
      "| O |   |   |\n",
      " --- --- ---\n",
      "Player 1's turn (Enter move like A1, B2, etc.):\n",
      "Invalid move, try again!\n",
      " --- --- ---\n",
      "| X |   | O |\n",
      " --- --- ---\n",
      "|   | X |   |\n",
      " --- --- ---\n",
      "| O |   |   |\n",
      " --- --- ---\n",
      "Player 1's turn (Enter move like A1, B2, etc.):\n",
      " --- --- ---\n",
      "| X |   | O |\n",
      " --- --- ---\n",
      "|   | X |   |\n",
      " --- --- ---\n",
      "| O |   | X |\n",
      " --- --- ---\n",
      "Player 1 (X) wins!\n"
     ]
    }
   ],
   "source": [
    "tic_tac_toe_with_computer()"
   ]
  }
 ],
 "metadata": {
  "kernelspec": {
   "display_name": "Python 3 (ipykernel)",
   "language": "python",
   "name": "python3"
  },
  "language_info": {
   "codemirror_mode": {
    "name": "ipython",
    "version": 3
   },
   "file_extension": ".py",
   "mimetype": "text/x-python",
   "name": "python",
   "nbconvert_exporter": "python",
   "pygments_lexer": "ipython3",
   "version": "3.12.5"
  }
 },
 "nbformat": 4,
 "nbformat_minor": 2
}
