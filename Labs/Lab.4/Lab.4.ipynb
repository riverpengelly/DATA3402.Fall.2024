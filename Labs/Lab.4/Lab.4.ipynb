{
 "cells": [
  {
   "cell_type": "markdown",
   "metadata": {},
   "source": [
    "# Lab 4- Object Oriented Programming\n",
    "\n",
    "For all of the exercises below, make sure you provide tests of your solutions.\n"
   ]
  },
  {
   "cell_type": "markdown",
   "metadata": {},
   "source": [
    "1. Write a \"counter\" class that can be incremented up to a specified maximum value, will print an error if an attempt is made to increment beyond that value, and allows reseting the counter. "
   ]
  },
  {
   "cell_type": "code",
   "execution_count": 1,
   "metadata": {},
   "outputs": [
    {
     "name": "stdout",
     "output_type": "stream",
     "text": [
      "Counter(value=0, max_value=5)\n",
      "Counter(value=2, max_value=5)\n",
      "Error: Counter has reached its maximum value.\n",
      "Counter(value=0, max_value=5)\n"
     ]
    }
   ],
   "source": [
    "class Counter:\n",
    "    def __init__(self, max_value):\n",
    "        self.value = 0\n",
    "        self.max_value = max_value\n",
    "        \n",
    "    def increment(self):\n",
    "        if self.value < self.max_value:\n",
    "            self.value += 1\n",
    "        else:\n",
    "            print(\"Error: Counter has reached its maximum value.\")\n",
    "    \n",
    "    def reset(self):\n",
    "        self.value = 0\n",
    "    \n",
    "    def __repr__(self):\n",
    "        return f\"Counter(value={self.value}, max_value={self.max_value})\"\n",
    "\n",
    "# Testing\n",
    "counter = Counter(5)\n",
    "print(counter)  # Should show Counter(value=0, max_value=5)\n",
    "counter.increment()\n",
    "counter.increment()\n",
    "print(counter)  # Should show Counter(value=2, max_value=5)\n",
    "counter.increment()\n",
    "counter.increment()\n",
    "counter.increment()\n",
    "counter.increment()  # Should print an error\n",
    "counter.reset()\n",
    "print(counter)  # Should show Counter(value=0, max_value=5)\n"
   ]
  },
  {
   "cell_type": "markdown",
   "metadata": {},
   "source": [
    "2. Copy and paste your solution to question 1 and modify it so that all the data held by the counter is private. Implement functions to check the value of the counter, check the maximum value, and check if the counter is at the maximum."
   ]
  },
  {
   "cell_type": "code",
   "execution_count": 2,
   "metadata": {},
   "outputs": [
    {
     "name": "stdout",
     "output_type": "stream",
     "text": [
      "PrivateCounter(value=0, max_value=5)\n",
      "2\n",
      "False\n",
      "True\n",
      "Error: Counter has reached its maximum value.\n",
      "0\n"
     ]
    }
   ],
   "source": [
    "class PrivateCounter:\n",
    "    def __init__(self, max_value):\n",
    "        self.__value = 0\n",
    "        self.__max_value = max_value\n",
    "        \n",
    "    def increment(self):\n",
    "        if self.__value < self.__max_value:\n",
    "            self.__value += 1\n",
    "        else:\n",
    "            print(\"Error: Counter has reached its maximum value.\")\n",
    "    \n",
    "    def reset(self):\n",
    "        self.__value = 0\n",
    "    \n",
    "    def get_value(self):\n",
    "        return self.__value\n",
    "    \n",
    "    def get_max_value(self):\n",
    "        return self.__max_value\n",
    "    \n",
    "    def is_at_max(self):\n",
    "        return self.__value == self.__max_value\n",
    "    \n",
    "    def __repr__(self):\n",
    "        return f\"PrivateCounter(value={self.__value}, max_value={self.__max_value})\"\n",
    "\n",
    "# Testing\n",
    "private_counter = PrivateCounter(5)\n",
    "print(private_counter)  # Should show PrivateCounter(value=0, max_value=5)\n",
    "private_counter.increment()\n",
    "private_counter.increment()\n",
    "print(private_counter.get_value())  # Should show 2\n",
    "print(private_counter.is_at_max())  # Should be False\n",
    "private_counter.increment()\n",
    "private_counter.increment()\n",
    "private_counter.increment()\n",
    "print(private_counter.is_at_max())  # Should be True\n",
    "private_counter.increment()  # Should print an error\n",
    "private_counter.reset()\n",
    "print(private_counter.get_value())  # Should show 0\n"
   ]
  },
  {
   "cell_type": "markdown",
   "metadata": {},
   "source": [
    "3. Implement a class to represent a rectangle, holding the length, width, and $x$ and $y$ coordinates of a corner of the object. Implement functions that compute the area and perimeter of the rectangle. Make all data members private and privide accessors to retrieve values of data members. "
   ]
  },
  {
   "cell_type": "code",
   "execution_count": 3,
   "metadata": {},
   "outputs": [
    {
     "name": "stdout",
     "output_type": "stream",
     "text": [
      "Rectangle(length=5, width=3, x=2, y=4)\n",
      "Area: 15\n",
      "Perimeter: 16\n",
      "Coordinates: (2, 4)\n"
     ]
    }
   ],
   "source": [
    "class Rectangle:\n",
    "    def __init__(self, length, width, x=0, y=0):\n",
    "        self.__length = length\n",
    "        self.__width = width\n",
    "        self.__x = x\n",
    "        self.__y = y\n",
    "    \n",
    "    def area(self):\n",
    "        return self.__length * self.__width\n",
    "    \n",
    "    def perimeter(self):\n",
    "        return 2 * (self.__length + self.__width)\n",
    "    \n",
    "    def get_length(self):\n",
    "        return self.__length\n",
    "    \n",
    "    def get_width(self):\n",
    "        return self.__width\n",
    "    \n",
    "    def get_coordinates(self):\n",
    "        return (self.__x, self.__y)\n",
    "    \n",
    "    def __repr__(self):\n",
    "        return f\"Rectangle(length={self.__length}, width={self.__width}, x={self.__x}, y={self.__y})\"\n",
    "\n",
    "# Testing\n",
    "rectangle = Rectangle(5, 3, 2, 4)\n",
    "print(rectangle)  # Should show the rectangle details\n",
    "print(\"Area:\", rectangle.area())  # Should be 15\n",
    "print(\"Perimeter:\", rectangle.perimeter())  # Should be 16\n",
    "print(\"Coordinates:\", rectangle.get_coordinates())  # Should show (2, 4)\n"
   ]
  },
  {
   "cell_type": "markdown",
   "metadata": {},
   "source": [
    "4. Implement a class to represent a circle, holding the radius and $x$ and $y$ coordinates of center of the object. Implement functions that compute the area and perimeter of the rectangle. Make all data members private and privide accessors to retrieve values of data members. "
   ]
  },
  {
   "cell_type": "code",
   "execution_count": 4,
   "metadata": {},
   "outputs": [
    {
     "name": "stdout",
     "output_type": "stream",
     "text": [
      "Circle(radius=5, x=1, y=1)\n",
      "Area: 78.53981633974483\n",
      "Perimeter: 31.41592653589793\n",
      "Coordinates: (1, 1)\n"
     ]
    }
   ],
   "source": [
    "import math\n",
    "\n",
    "class Circle:\n",
    "    def __init__(self, radius, x=0, y=0):\n",
    "        self.__radius = radius\n",
    "        self.__x = x\n",
    "        self.__y = y\n",
    "    \n",
    "    def area(self):\n",
    "        return math.pi * (self.__radius ** 2)\n",
    "    \n",
    "    def perimeter(self):\n",
    "        return 2 * math.pi * self.__radius\n",
    "    \n",
    "    def get_radius(self):\n",
    "        return self.__radius\n",
    "    \n",
    "    def get_coordinates(self):\n",
    "        return (self.__x, self.__y)\n",
    "    \n",
    "    def __repr__(self):\n",
    "        return f\"Circle(radius={self.__radius}, x={self.__x}, y={self.__y})\"\n",
    "\n",
    "# Testing\n",
    "circle = Circle(5, 1, 1)\n",
    "print(circle)  # Should show the circle details\n",
    "print(\"Area:\", circle.area())  # Should be approximately 78.54\n",
    "print(\"Perimeter:\", circle.perimeter())  # Should be approximately 31.42\n",
    "print(\"Coordinates:\", circle.get_coordinates())  # Should show (1, 1)\n"
   ]
  },
  {
   "cell_type": "markdown",
   "metadata": {},
   "source": [
    "5. Implement a common base class for the classes implemented in 3 and 4 above which implements all common methods as not implemented functions (virtual). Re-implement your regtangle and circule classes to inherit from the base class and overload the functions accordingly. "
   ]
  },
  {
   "cell_type": "code",
   "execution_count": 5,
   "metadata": {},
   "outputs": [
    {
     "name": "stdout",
     "output_type": "stream",
     "text": [
      "Rectangle(length=4, width=6, x=0, y=0)\n",
      "Rectangle Area: 24\n",
      "Rectangle Perimeter: 20\n",
      "Circle(radius=3, x=0, y=0)\n",
      "Circle Area: 28.274333882308138\n",
      "Circle Perimeter: 18.84955592153876\n"
     ]
    }
   ],
   "source": [
    "from abc import ABC, abstractmethod\n",
    "\n",
    "class Shape(ABC):\n",
    "    @abstractmethod\n",
    "    def area(self):\n",
    "        pass\n",
    "    \n",
    "    @abstractmethod\n",
    "    def perimeter(self):\n",
    "        pass\n",
    "\n",
    "# Updated Rectangle class inheriting from Shape\n",
    "class Rectangle(Shape):\n",
    "    def __init__(self, length, width, x=0, y=0):\n",
    "        self.__length = length\n",
    "        self.__width = width\n",
    "        self.__x = x\n",
    "        self.__y = y\n",
    "    \n",
    "    def area(self):\n",
    "        return self.__length * self.__width\n",
    "    \n",
    "    def perimeter(self):\n",
    "        return 2 * (self.__length + self.__width)\n",
    "    \n",
    "    def get_length(self):\n",
    "        return self.__length\n",
    "    \n",
    "    def get_width(self):\n",
    "        return self.__width\n",
    "    \n",
    "    def get_coordinates(self):\n",
    "        return (self.__x, self.__y)\n",
    "    \n",
    "    def __repr__(self):\n",
    "        return f\"Rectangle(length={self.__length}, width={self.__width}, x={self.__x}, y={self.__y})\"\n",
    "\n",
    "# Updated Circle class inheriting from Shape\n",
    "class Circle(Shape):\n",
    "    def __init__(self, radius, x=0, y=0):\n",
    "        self.__radius = radius\n",
    "        self.__x = x\n",
    "        self.__y = y\n",
    "    \n",
    "    def area(self):\n",
    "        return math.pi * (self.__radius ** 2)\n",
    "    \n",
    "    def perimeter(self):\n",
    "        return 2 * math.pi * self.__radius\n",
    "    \n",
    "    def get_radius(self):\n",
    "        return self.__radius\n",
    "    \n",
    "    def get_coordinates(self):\n",
    "        return (self.__x, self.__y)\n",
    "    \n",
    "    def __repr__(self):\n",
    "        return f\"Circle(radius={self.__radius}, x={self.__x}, y={self.__y})\"\n",
    "\n",
    "# Testing\n",
    "shape_rectangle = Rectangle(4, 6)\n",
    "print(shape_rectangle)\n",
    "print(\"Rectangle Area:\", shape_rectangle.area())\n",
    "print(\"Rectangle Perimeter:\", shape_rectangle.perimeter())\n",
    "\n",
    "shape_circle = Circle(3)\n",
    "print(shape_circle)\n",
    "print(\"Circle Area:\", shape_circle.area())\n",
    "print(\"Circle Perimeter:\", shape_circle.perimeter())\n"
   ]
  },
  {
   "cell_type": "markdown",
   "metadata": {},
   "source": [
    "6. Implement a triangle class analogous to the rectangle and circle in question 5."
   ]
  },
  {
   "cell_type": "code",
   "execution_count": 6,
   "metadata": {},
   "outputs": [
    {
     "name": "stdout",
     "output_type": "stream",
     "text": [
      "Triangle(base=5, height=4, sides=(3, 4, 5), x=0, y=0)\n",
      "Triangle Area: 10.0\n",
      "Triangle Perimeter: 12\n"
     ]
    }
   ],
   "source": [
    "class Triangle(Shape):\n",
    "    def __init__(self, base, height, side_a, side_b, side_c, x=0, y=0):\n",
    "        self.__base = base\n",
    "        self.__height = height\n",
    "        self.__side_a = side_a\n",
    "        self.__side_b = side_b\n",
    "        self.__side_c = side_c\n",
    "        self.__x = x\n",
    "        self.__y = y\n",
    "    \n",
    "    def area(self):\n",
    "        return 0.5 * self.__base * self.__height\n",
    "    \n",
    "    def perimeter(self):\n",
    "        return self.__side_a + self.__side_b + self.__side_c\n",
    "    \n",
    "    def get_coordinates(self):\n",
    "        return (self.__x, self.__y)\n",
    "    \n",
    "    def __repr__(self):\n",
    "        return f\"Triangle(base={self.__base}, height={self.__height}, sides=({self.__side_a}, {self.__side_b}, {self.__side_c}), x={self.__x}, y={self.__y})\"\n",
    "\n",
    "# Testing\n",
    "triangle = Triangle(5, 4, 3, 4, 5)\n",
    "print(triangle)\n",
    "print(\"Triangle Area:\", triangle.area())  # Should be 10\n",
    "print(\"Triangle Perimeter:\", triangle.perimeter())  # Should be 12\n"
   ]
  },
  {
   "cell_type": "markdown",
   "metadata": {},
   "source": [
    "7. Add a function to the object classes, including the base, that returns a list of up to 16 pairs of  $x$ and $y$ points on the parameter of the object. "
   ]
  },
  {
   "cell_type": "code",
   "execution_count": 7,
   "metadata": {},
   "outputs": [
    {
     "name": "stdout",
     "output_type": "stream",
     "text": [
      "Rectangle Points on Perimeter: [(0, 0.0), (0, 1.0), (0, 2.0), (0, 3.0), (0, 4.0), (0.75, 4), (1.5, 4), (2.25, 4), (3.0, 4), (3, 3.0), (3, 2.0), (3, 1.0), (3, 0.0), (2.25, 0), (1.5, 0), (0.75, 0)]\n",
      "Circle Points on Perimeter: [(3.0, 0.0), (2.7406363729278027, 1.2202099292274005), (2.0073918190765747, 2.2294344764321825), (0.9270509831248424, 2.8531695488854605), (-0.31358538980296, 2.98356568610482), (-1.4999999999999993, 2.598076211353316), (-2.427050983124842, 1.7633557568774196), (-2.9344428022014166, 0.6237350724532792), (-2.934442802201417, -0.6237350724532772), (-2.4270509831248424, -1.7633557568774192), (-1.5000000000000013, -2.5980762113533156), (-0.3135853898029627, -2.9835656861048196), (0.9270509831248417, -2.853169548885461), (2.0073918190765734, -2.229434476432184), (2.740636372927802, -1.2202099292274027), (3.0, -7.347880794884119e-16)]\n"
     ]
    }
   ],
   "source": [
    "import numpy as np\n",
    "\n",
    "class Shape(ABC):\n",
    "    @abstractmethod\n",
    "    def area(self):\n",
    "        pass\n",
    "    \n",
    "    @abstractmethod\n",
    "    def perimeter(self):\n",
    "        pass\n",
    "    \n",
    "    @abstractmethod\n",
    "    def points_on_perimeter(self):\n",
    "        pass\n",
    "\n",
    "# Updated Rectangle with `points_on_perimeter`\n",
    "class Rectangle(Shape):\n",
    "    def __init__(self, length, width, x=0, y=0):\n",
    "        self.__length = length\n",
    "        self.__width = width\n",
    "        self.__x = x\n",
    "        self.__y = y\n",
    "    \n",
    "    def area(self):\n",
    "        return self.__length * self.__width\n",
    "    \n",
    "    def perimeter(self):\n",
    "        return 2 * (self.__length + self.__width)\n",
    "    \n",
    "    def points_on_perimeter(self):\n",
    "        points = []\n",
    "        points += [(self.__x, self.__y + i * (self.__length / 4)) for i in range(5)]\n",
    "        points += [(self.__x + i * (self.__width / 4), self.__y + self.__length) for i in range(1, 5)]\n",
    "        points += [(self.__x + self.__width, self.__y + self.__length - i * (self.__length / 4)) for i in range(1, 5)]\n",
    "        points += [(self.__x + self.__width - i * (self.__width / 4), self.__y) for i in range(1, 5)]\n",
    "        return points[:16]\n",
    "    \n",
    "    def __repr__(self):\n",
    "        return f\"Rectangle(length={self.__length}, width={self.__width}, x={self.__x}, y={self.__y})\"\n",
    "\n",
    "# Updated Circle with `points_on_perimeter`\n",
    "class Circle(Shape):\n",
    "    def __init__(self, radius, x=0, y=0):\n",
    "        self.__radius = radius\n",
    "        self.__x = x\n",
    "        self.__y = y\n",
    "    \n",
    "    def area(self):\n",
    "        return math.pi * (self.__radius ** 2)\n",
    "    \n",
    "    def perimeter(self):\n",
    "        return 2 * math.pi * self.__radius\n",
    "    \n",
    "    def points_on_perimeter(self):\n",
    "        return [(self.__x + self.__radius * np.cos(theta), self.__y + self.__radius * np.sin(theta)) for theta in np.linspace(0, 2 * math.pi, 16)]\n",
    "    \n",
    "    def __repr__(self):\n",
    "        return f\"Circle(radius={self.__radius}, x={self.__x}, y={self.__y})\"\n",
    "\n",
    "# Testing\n",
    "print(\"Rectangle Points on Perimeter:\", Rectangle(4, 3).points_on_perimeter())\n",
    "print(\"Circle Points on Perimeter:\", Circle(3).points_on_perimeter())\n"
   ]
  },
  {
   "cell_type": "markdown",
   "metadata": {},
   "source": [
    "8. Add a function to the object classes, including the base, that tests if a given set of $x$ and $y$ coordinates are inside of the object. You'll have to think through how to determine if a set of coordinates are inside an object for each object type."
   ]
  },
  {
   "cell_type": "code",
   "execution_count": 8,
   "metadata": {},
   "outputs": [
    {
     "name": "stdout",
     "output_type": "stream",
     "text": [
      "Is point (1,1) inside Rectangle?: True\n",
      "Is point (1,1) inside Circle?: True\n",
      "Is point (1,1) inside Triangle?: True\n"
     ]
    }
   ],
   "source": [
    "class Shape(ABC):\n",
    "    @abstractmethod\n",
    "    def area(self):\n",
    "        pass\n",
    "    \n",
    "    @abstractmethod\n",
    "    def perimeter(self):\n",
    "        pass\n",
    "    \n",
    "    @abstractmethod\n",
    "    def points_on_perimeter(self):\n",
    "        pass\n",
    "    \n",
    "    @abstractmethod\n",
    "    def is_point_inside(self, x, y):\n",
    "        pass\n",
    "\n",
    "# Updated Rectangle with `is_point_inside`\n",
    "class Rectangle(Shape):\n",
    "    def __init__(self, length, width, x=0, y=0):\n",
    "        self.__length = length\n",
    "        self.__width = width\n",
    "        self.__x = x\n",
    "        self.__y = y\n",
    "    \n",
    "    def area(self):\n",
    "        return self.__length * self.__width\n",
    "    \n",
    "    def perimeter(self):\n",
    "        return 2 * (self.__length + self.__width)\n",
    "    \n",
    "    def points_on_perimeter(self):\n",
    "        points = []\n",
    "        points += [(self.__x, self.__y + i * (self.__length / 4)) for i in range(5)]\n",
    "        points += [(self.__x + i * (self.__width / 4), self.__y + self.__length) for i in range(1, 5)]\n",
    "        points += [(self.__x + self.__width, self.__y + self.__length - i * (self.__length / 4)) for i in range(1, 5)]\n",
    "        points += [(self.__x + self.__width - i * (self.__width / 4), self.__y) for i in range(1, 5)]\n",
    "        return points[:16]\n",
    "    \n",
    "    def is_point_inside(self, x, y):\n",
    "        return self.__x <= x <= self.__x + self.__width and self.__y <= y <= self.__y + self.__length\n",
    "    \n",
    "    def __repr__(self):\n",
    "        return f\"Rectangle(length={self.__length}, width={self.__width}, x={self.__x}, y={self.__y})\"\n",
    "\n",
    "# Updated Circle with `is_point_inside`\n",
    "class Circle(Shape):\n",
    "    def __init__(self, radius, x=0, y=0):\n",
    "        self.__radius = radius\n",
    "        self.__x = x\n",
    "        self.__y = y\n",
    "    \n",
    "    def area(self):\n",
    "        return math.pi * (self.__radius ** 2)\n",
    "    \n",
    "    def perimeter(self):\n",
    "        return 2 * math.pi * self.__radius\n",
    "    \n",
    "    def points_on_perimeter(self):\n",
    "        return [(self.__x + self.__radius * np.cos(theta), self.__y + self.__radius * np.sin(theta)) for theta in np.linspace(0, 2 * math.pi, 16)]\n",
    "    \n",
    "    def is_point_inside(self, x, y):\n",
    "        return (x - self.__x) ** 2 + (y - self.__y) ** 2 <= self.__radius ** 2\n",
    "    \n",
    "    def __repr__(self):\n",
    "        return f\"Circle(radius={self.__radius}, x={self.__x}, y={self.__y})\"\n",
    "\n",
    "# Updated Triangle with `is_point_inside`\n",
    "class Triangle(Shape):\n",
    "    def __init__(self, base, height, side_a, side_b, side_c, x=0, y=0):\n",
    "        self.__base = base\n",
    "        self.__height = height\n",
    "        self.__side_a = side_a\n",
    "        self.__side_b = side_b\n",
    "        self.__side_c = side_c\n",
    "        self.__x = x\n",
    "        self.__y = y\n",
    "    \n",
    "    def area(self):\n",
    "        return 0.5 * self.__base * self.__height\n",
    "    \n",
    "    def perimeter(self):\n",
    "        return self.__side_a + self.__side_b + self.__side_c\n",
    "    \n",
    "    def points_on_perimeter(self):\n",
    "        return [(self.__x, self.__y), \n",
    "                (self.__x + self.__base, self.__y), \n",
    "                (self.__x + self.__base / 2, self.__y + self.__height)]\n",
    "\n",
    "    def is_point_inside(self, x, y):\n",
    "        def sign(p1, p2, p3):\n",
    "            return (p1[0] - p3[0]) * (p2[1] - p3[1]) - (p2[0] - p3[0]) * (p1[1] - p3[1])\n",
    "        \n",
    "        v1 = (self.__x, self.__y)\n",
    "        v2 = (self.__x + self.__base, self.__y)\n",
    "        v3 = (self.__x + self.__base / 2, self.__y + self.__height)\n",
    "        \n",
    "        d1 = sign((x, y), v1, v2)\n",
    "        d2 = sign((x, y), v2, v3)\n",
    "        d3 = sign((x, y), v3, v1)\n",
    "        \n",
    "        has_neg = (d1 < 0) or (d2 < 0) or (d3 < 0)\n",
    "        has_pos = (d1 > 0) or (d2 > 0) or (d3 > 0)\n",
    "        \n",
    "        return not (has_neg and has_pos)\n",
    "    \n",
    "    def __repr__(self):\n",
    "        return f\"Triangle(base={self.__base}, height={self.__height}, sides=({self.__side_a}, {self.__side_b}, {self.__side_c}), x={self.__x}, y={self.__y})\"\n",
    "\n",
    "# Testing\n",
    "print(\"Is point (1,1) inside Rectangle?:\", Rectangle(4, 3).is_point_inside(1, 1))\n",
    "print(\"Is point (1,1) inside Circle?:\", Circle(3).is_point_inside(1, 1))\n",
    "print(\"Is point (1,1) inside Triangle?:\", Triangle(5, 4, 3, 4, 5).is_point_inside(1, 1))\n"
   ]
  },
  {
   "cell_type": "markdown",
   "metadata": {},
   "source": [
    "9. Add a function in the base class of the object classes that returns true/false testing that the object overlaps with another object."
   ]
  },
  {
   "cell_type": "code",
   "execution_count": 10,
   "metadata": {},
   "outputs": [
    {
     "name": "stdout",
     "output_type": "stream",
     "text": [
      "Rectangle 1 overlaps with Rectangle 2: True\n",
      "Circle overlaps with Rectangle: True\n"
     ]
    }
   ],
   "source": [
    "from abc import ABC, abstractmethod\n",
    "import math\n",
    "import numpy as np\n",
    "\n",
    "class Shape(ABC):\n",
    "    @abstractmethod\n",
    "    def area(self):\n",
    "        pass\n",
    "    \n",
    "    @abstractmethod\n",
    "    def perimeter(self):\n",
    "        pass\n",
    "    \n",
    "    @abstractmethod\n",
    "    def points_on_perimeter(self):\n",
    "        pass\n",
    "    \n",
    "    @abstractmethod\n",
    "    def is_point_inside(self, x, y):\n",
    "        pass\n",
    "    \n",
    "    @abstractmethod\n",
    "    def overlaps_with(self, other):\n",
    "        pass\n",
    "\n",
    "# Updated Rectangle with `is_point_inside` and `overlaps_with`\n",
    "class Rectangle(Shape):\n",
    "    def __init__(self, length, width, x=0, y=0):\n",
    "        self.__length = length\n",
    "        self.__width = width\n",
    "        self.__x = x\n",
    "        self.__y = y\n",
    "    \n",
    "    def area(self):\n",
    "        return self.__length * self.__width\n",
    "    \n",
    "    def perimeter(self):\n",
    "        return 2 * (self.__length + self.__width)\n",
    "    \n",
    "    def points_on_perimeter(self):\n",
    "        points = []\n",
    "        points += [(self.__x, self.__y + i * (self.__length / 4)) for i in range(5)]\n",
    "        points += [(self.__x + i * (self.__width / 4), self.__y + self.__length) for i in range(1, 5)]\n",
    "        points += [(self.__x + self.__width, self.__y + self.__length - i * (self.__length / 4)) for i in range(1, 5)]\n",
    "        points += [(self.__x + self.__width - i * (self.__width / 4), self.__y) for i in range(1, 5)]\n",
    "        return points[:16]\n",
    "    \n",
    "    def is_point_inside(self, x, y):\n",
    "        return self.__x <= x <= self.__x + self.__width and self.__y <= y <= self.__y + self.__length\n",
    "    \n",
    "    def overlaps_with(self, other):\n",
    "        for x, y in self.points_on_perimeter():\n",
    "            if other.is_point_inside(x, y):\n",
    "                return True\n",
    "        return False\n",
    "    \n",
    "    def __repr__(self):\n",
    "        return f\"Rectangle(length={self.__length}, width={self.__width}, x={self.__x}, y={self.__y})\"\n",
    "\n",
    "# Updated Circle with `is_point_inside` and `overlaps_with`\n",
    "class Circle(Shape):\n",
    "    def __init__(self, radius, x=0, y=0):\n",
    "        self.__radius = radius\n",
    "        self.__x = x\n",
    "        self.__y = y\n",
    "    \n",
    "    def area(self):\n",
    "        return math.pi * (self.__radius ** 2)\n",
    "    \n",
    "    def perimeter(self):\n",
    "        return 2 * math.pi * self.__radius\n",
    "    \n",
    "    def points_on_perimeter(self):\n",
    "        return [(self.__x + self.__radius * np.cos(theta), self.__y + self.__radius * np.sin(theta)) for theta in np.linspace(0, 2 * math.pi, 16)]\n",
    "    \n",
    "    def is_point_inside(self, x, y):\n",
    "        return (x - self.__x) ** 2 + (y - self.__y) ** 2 <= self.__radius ** 2\n",
    "    \n",
    "    def overlaps_with(self, other):\n",
    "        for x, y in self.points_on_perimeter():\n",
    "            if other.is_point_inside(x, y):\n",
    "                return True\n",
    "        return False\n",
    "    \n",
    "    def __repr__(self):\n",
    "        return f\"Circle(radius={self.__radius}, x={self.__x}, y={self.__y})\"\n",
    "\n",
    "# Updated Triangle with `is_point_inside` and `overlaps_with`\n",
    "class Triangle(Shape):\n",
    "    def __init__(self, base, height, side_a, side_b, side_c, x=0, y=0):\n",
    "        self.__base = base\n",
    "        self.__height = height\n",
    "        self.__side_a = side_a\n",
    "        self.__side_b = side_b\n",
    "        self.__side_c = side_c\n",
    "        self.__x = x\n",
    "        self.__y = y\n",
    "    \n",
    "    def area(self):\n",
    "        return 0.5 * self.__base * self.__height\n",
    "    \n",
    "    def perimeter(self):\n",
    "        return self.__side_a + self.__side_b + self.__side_c\n",
    "    \n",
    "    def points_on_perimeter(self):\n",
    "        return [(self.__x, self.__y), \n",
    "                (self.__x + self.__base, self.__y), \n",
    "                (self.__x + self.__base / 2, self.__y + self.__height)]\n",
    "\n",
    "    def is_point_inside(self, x, y):\n",
    "        def sign(p1, p2, p3):\n",
    "            return (p1[0] - p3[0]) * (p2[1] - p3[1]) - (p2[0] - p3[0]) * (p1[1] - p3[1])\n",
    "        \n",
    "        v1 = (self.__x, self.__y)\n",
    "        v2 = (self.__x + self.__base, self.__y)\n",
    "        v3 = (self.__x + self.__base / 2, self.__y + self.__height)\n",
    "        \n",
    "        d1 = sign((x, y), v1, v2)\n",
    "        d2 = sign((x, y), v2, v3)\n",
    "        d3 = sign((x, y), v3, v1)\n",
    "        \n",
    "        has_neg = (d1 < 0) or (d2 < 0) or (d3 < 0)\n",
    "        has_pos = (d1 > 0) or (d2 > 0) or (d3 > 0)\n",
    "        \n",
    "        return not (has_neg and has_pos)\n",
    "    \n",
    "    def overlaps_with(self, other):\n",
    "        for x, y in self.points_on_perimeter():\n",
    "            if other.is_point_inside(x, y):\n",
    "                return True\n",
    "        return False\n",
    "    \n",
    "    def __repr__(self):\n",
    "        return f\"Triangle(base={self.__base}, height={self.__height}, sides=({self.__side_a}, {self.__side_b}, {self.__side_c}), x={self.__x}, y={self.__y})\"\n",
    "\n",
    "# Testing the overlap functionality\n",
    "rect1 = Rectangle(3, 2, 0, 0)\n",
    "rect2 = Rectangle(2, 2, 1, 1)\n",
    "print(\"Rectangle 1 overlaps with Rectangle 2:\", rect1.overlaps_with(rect2))\n",
    "\n",
    "circle1 = Circle(2, 0, 0)\n",
    "print(\"Circle overlaps with Rectangle:\", circle1.overlaps_with(rect1))\n"
   ]
  },
  {
   "cell_type": "markdown",
   "metadata": {},
   "source": [
    "10. Copy the `Canvas` class from lecture to in a python file creating a `paint` module. Copy your classes from above into the module and implement paint functions. Implement a `CompoundShape` class. Create a simple drawing demonstrating that all of your classes are working."
   ]
  },
  {
   "cell_type": "code",
   "execution_count": 11,
   "metadata": {},
   "outputs": [
    {
     "name": "stdout",
     "output_type": "stream",
     "text": [
      "Compound Shape Area: 9.141592653589793\n",
      "Compound Shape Perimeter: 16.283185307179586\n"
     ]
    }
   ],
   "source": [
    "class CompoundShape(Shape):\n",
    "    def __init__(self):\n",
    "        self.shapes = []\n",
    "    \n",
    "    def add_shape(self, shape):\n",
    "        if isinstance(shape, Shape):\n",
    "            self.shapes.append(shape)\n",
    "    \n",
    "    def area(self):\n",
    "        return sum(shape.area() for shape in self.shapes)\n",
    "    \n",
    "    def perimeter(self):\n",
    "        return sum(shape.perimeter() for shape in self.shapes)\n",
    "    \n",
    "    def points_on_perimeter(self):\n",
    "        points = []\n",
    "        for shape in self.shapes:\n",
    "            points.extend(shape.points_on_perimeter())\n",
    "        return points\n",
    "    \n",
    "    def is_point_inside(self, x, y):\n",
    "        return any(shape.is_point_inside(x, y) for shape in self.shapes)\n",
    "    \n",
    "    def overlaps_with(self, other):\n",
    "        return any(shape.overlaps_with(other) for shape in self.shapes)\n",
    "    \n",
    "    def __repr__(self):\n",
    "        return f\"CompoundShape({self.shapes})\"\n",
    "\n",
    "# Testing\n",
    "compound = CompoundShape()\n",
    "compound.add_shape(Rectangle(2, 3))\n",
    "compound.add_shape(Circle(1, 2, 2))\n",
    "print(\"Compound Shape Area:\", compound.area())\n",
    "print(\"Compound Shape Perimeter:\", compound.perimeter())\n"
   ]
  },
  {
   "cell_type": "markdown",
   "metadata": {},
   "source": [
    "11. Create a `RasterDrawing` class. Demonstrate that you can create a drawing made of several shapes, paint the drawing, modify the drawing, and paint it again. "
   ]
  },
  {
   "cell_type": "code",
   "execution_count": 19,
   "metadata": {},
   "outputs": [
    {
     "name": "stdout",
     "output_type": "stream",
     "text": [
      "Initial Raster Drawing\n"
     ]
    },
    {
     "ename": "AttributeError",
     "evalue": "'Rectangle' object has no attribute 'get_coordinates'",
     "output_type": "error",
     "traceback": [
      "\u001b[1;31m---------------------------------------------------------------------------\u001b[0m",
      "\u001b[1;31mAttributeError\u001b[0m                            Traceback (most recent call last)",
      "Cell \u001b[1;32mIn[19], line 42\u001b[0m\n\u001b[0;32m     39\u001b[0m drawing\u001b[38;5;241m.\u001b[39madd_shape(Triangle(\u001b[38;5;241m4\u001b[39m, \u001b[38;5;241m2\u001b[39m, \u001b[38;5;241m4\u001b[39m, \u001b[38;5;241m5\u001b[39m, \u001b[38;5;241m6\u001b[39m, \u001b[38;5;241m-\u001b[39m\u001b[38;5;241m1\u001b[39m, \u001b[38;5;241m-\u001b[39m\u001b[38;5;241m1\u001b[39m))\n\u001b[0;32m     41\u001b[0m \u001b[38;5;28mprint\u001b[39m(\u001b[38;5;124m\"\u001b[39m\u001b[38;5;124mInitial Raster Drawing\u001b[39m\u001b[38;5;124m\"\u001b[39m)\n\u001b[1;32m---> 42\u001b[0m \u001b[43mdrawing\u001b[49m\u001b[38;5;241;43m.\u001b[39;49m\u001b[43mpaint\u001b[49m\u001b[43m(\u001b[49m\u001b[43m)\u001b[49m\n\u001b[0;32m     44\u001b[0m \u001b[38;5;66;03m# Modify the drawing by adding a new shape\u001b[39;00m\n\u001b[0;32m     45\u001b[0m drawing\u001b[38;5;241m.\u001b[39madd_shape(Rectangle(\u001b[38;5;241m2\u001b[39m, \u001b[38;5;241m1\u001b[39m, \u001b[38;5;241m-\u001b[39m\u001b[38;5;241m4\u001b[39m, \u001b[38;5;241m-\u001b[39m\u001b[38;5;241m4\u001b[39m))\n",
      "Cell \u001b[1;32mIn[19], line 19\u001b[0m, in \u001b[0;36mRasterDrawing.paint\u001b[1;34m(self)\u001b[0m\n\u001b[0;32m     17\u001b[0m \u001b[38;5;28;01mfor\u001b[39;00m shape \u001b[38;5;129;01min\u001b[39;00m \u001b[38;5;28mself\u001b[39m\u001b[38;5;241m.\u001b[39mshapes:\n\u001b[0;32m     18\u001b[0m     \u001b[38;5;28;01mif\u001b[39;00m \u001b[38;5;28misinstance\u001b[39m(shape, Rectangle):\n\u001b[1;32m---> 19\u001b[0m         rect \u001b[38;5;241m=\u001b[39m plt\u001b[38;5;241m.\u001b[39mRectangle(\u001b[43mshape\u001b[49m\u001b[38;5;241;43m.\u001b[39;49m\u001b[43mget_coordinates\u001b[49m(), shape\u001b[38;5;241m.\u001b[39mget_width(), shape\u001b[38;5;241m.\u001b[39mget_length(), fill\u001b[38;5;241m=\u001b[39m\u001b[38;5;28;01mNone\u001b[39;00m, edgecolor\u001b[38;5;241m=\u001b[39m\u001b[38;5;124m'\u001b[39m\u001b[38;5;124mblue\u001b[39m\u001b[38;5;124m'\u001b[39m)\n\u001b[0;32m     20\u001b[0m         ax\u001b[38;5;241m.\u001b[39madd_patch(rect)\n\u001b[0;32m     21\u001b[0m     \u001b[38;5;28;01melif\u001b[39;00m \u001b[38;5;28misinstance\u001b[39m(shape, Circle):\n",
      "\u001b[1;31mAttributeError\u001b[0m: 'Rectangle' object has no attribute 'get_coordinates'"
     ]
    },
    {
     "data": {
      "image/png": "[encoded data removed]",
      "text/plain": [
       "<Figure size 640x480 with 1 Axes>"
      ]
     },
     "metadata": {},
     "output_type": "display_data"
    }
   ],
   "source": [
    "import matplotlib.pyplot as plt\n",
    "\n",
    "class RasterDrawing:\n",
    "    def __init__(self):\n",
    "        self.shapes = []\n",
    "    \n",
    "    def add_shape(self, shape):\n",
    "        if isinstance(shape, Shape):\n",
    "            self.shapes.append(shape)\n",
    "    \n",
    "    def paint(self):\n",
    "        fig, ax = plt.subplots()\n",
    "        ax.set_aspect('equal', 'box')\n",
    "        ax.set_xlim(-10, 10)\n",
    "        ax.set_ylim(-10, 10)\n",
    "        \n",
    "        for shape in self.shapes:\n",
    "            if isinstance(shape, Rectangle):\n",
    "                rect = plt.Rectangle(shape.get_coordinates(), shape.get_width(), shape.get_length(), fill=None, edgecolor='blue')\n",
    "                ax.add_patch(rect)\n",
    "            elif isinstance(shape, Circle):\n",
    "                circle = plt.Circle(shape.get_coordinates(), shape.get_radius(), fill=None, edgecolor='green')\n",
    "                ax.add_patch(circle)\n",
    "            elif isinstance(shape, Triangle):\n",
    "                points = shape.points_on_perimeter()\n",
    "                triangle = plt.Polygon(points, fill=None, edgecolor='red')\n",
    "                ax.add_patch(triangle)\n",
    "        \n",
    "        plt.grid(True)\n",
    "        plt.show()\n",
    "    \n",
    "    def __repr__(self):\n",
    "        return f\"RasterDrawing(shapes={self.shapes})\"\n",
    "\n",
    "# Testing the RasterDrawing class\n",
    "drawing = RasterDrawing()\n",
    "drawing.add_shape(Rectangle(4, 2, 1, 1))\n",
    "drawing.add_shape(Circle(1.5, 3, 3))\n",
    "drawing.add_shape(Triangle(4, 2, 4, 5, 6, -1, -1))\n",
    "\n",
    "print(\"Initial Raster Drawing\")\n",
    "drawing.paint()\n",
    "\n",
    "# Modify the drawing by adding a new shape\n",
    "drawing.add_shape(Rectangle(2, 1, -4, -4))\n",
    "\n",
    "print(\"Modified Raster Drawing\")\n",
    "drawing.paint()\n"
   ]
  },
  {
   "cell_type": "markdown",
   "metadata": {},
   "source": [
    "12. Implement the ability to load/save raster drawings and demonstate that your method works. One way to implement this ability:\n",
    "\n",
    "   * Overload `__repr__` functions of all objects to return strings of the python code that would construct the object.\n",
    "   \n",
    "   * In the save method of raster drawing class, store the representations into the file.\n",
    "   * Write a loader function that reads the file and uses `eval` to instantiate the object.\n",
    "\n",
    "For example:"
   ]
  },
  {
   "cell_type": "code",
   "execution_count": 13,
   "metadata": {},
   "outputs": [],
   "source": [
    "class foo:\n",
    "    def __init__(self,a,b=None):\n",
    "        self.a=a\n",
    "        self.b=b\n",
    "        \n",
    "    def __repr__(self):\n",
    "        return \"foo(\"+repr(self.a)+\",\"+repr(self.b)+\")\"\n",
    "    \n",
    "    def save(self,filename):\n",
    "        f=open(filename,\"w\")\n",
    "        f.write(self.__repr__())\n",
    "        f.close()\n",
    "        \n",
    "   \n",
    "def foo_loader(filename):\n",
    "    f=open(filename,\"r\")\n",
    "    tmp=eval(f.read())\n",
    "    f.close()\n",
    "    return tmp\n"
   ]
  },
  {
   "cell_type": "code",
   "execution_count": 14,
   "metadata": {},
   "outputs": [
    {
     "name": "stdout",
     "output_type": "stream",
     "text": [
      "foo(1,'hello')\n"
     ]
    }
   ],
   "source": [
    "# Test\n",
    "print(repr(foo(1,\"hello\")))"
   ]
  },
  {
   "cell_type": "code",
   "execution_count": 15,
   "metadata": {},
   "outputs": [],
   "source": [
    "# Create an object and save it\n",
    "ff=foo(1,\"hello\")\n",
    "ff.save(\"Test.foo\")"
   ]
  },
  {
   "cell_type": "code",
   "execution_count": 16,
   "metadata": {},
   "outputs": [
    {
     "name": "stderr",
     "output_type": "stream",
     "text": [
      "'cat' is not recognized as an internal or external command,\n",
      "operable program or batch file.\n"
     ]
    }
   ],
   "source": [
    "# Check contents of the saved file\n",
    "!cat Test.foo"
   ]
  },
  {
   "cell_type": "code",
   "execution_count": 17,
   "metadata": {},
   "outputs": [
    {
     "data": {
      "text/plain": [
       "foo(1,'hello')"
      ]
     },
     "execution_count": 17,
     "metadata": {},
     "output_type": "execute_result"
    }
   ],
   "source": [
    "# Load the object\n",
    "ff_reloaded=foo_loader(\"Test.foo\")\n",
    "ff_reloaded"
   ]
  },
  {
   "cell_type": "code",
   "execution_count": 20,
   "metadata": {},
   "outputs": [
    {
     "ename": "TypeError",
     "evalue": "Triangle.__init__() got an unexpected keyword argument 'sides'",
     "output_type": "error",
     "traceback": [
      "\u001b[1;31m---------------------------------------------------------------------------\u001b[0m",
      "\u001b[1;31mTypeError\u001b[0m                                 Traceback (most recent call last)",
      "Cell \u001b[1;32mIn[20], line 55\u001b[0m\n\u001b[0;32m     53\u001b[0m \u001b[38;5;66;03m# Create a new drawing and load from the saved file\u001b[39;00m\n\u001b[0;32m     54\u001b[0m loaded_drawing \u001b[38;5;241m=\u001b[39m RasterDrawing()\n\u001b[1;32m---> 55\u001b[0m \u001b[43mloaded_drawing\u001b[49m\u001b[38;5;241;43m.\u001b[39;49m\u001b[43mload\u001b[49m\u001b[43m(\u001b[49m\u001b[38;5;124;43m\"\u001b[39;49m\u001b[38;5;124;43mraster_drawing.txt\u001b[39;49m\u001b[38;5;124;43m\"\u001b[39;49m\u001b[43m)\u001b[49m\n\u001b[0;32m     57\u001b[0m \u001b[38;5;28mprint\u001b[39m(\u001b[38;5;124m\"\u001b[39m\u001b[38;5;124mLoaded Drawing\u001b[39m\u001b[38;5;124m\"\u001b[39m)\n\u001b[0;32m     58\u001b[0m loaded_drawing\u001b[38;5;241m.\u001b[39mpaint()\n",
      "Cell \u001b[1;32mIn[20], line 39\u001b[0m, in \u001b[0;36mRasterDrawing.load\u001b[1;34m(self, filename)\u001b[0m\n\u001b[0;32m     37\u001b[0m \u001b[38;5;28;01mwith\u001b[39;00m \u001b[38;5;28mopen\u001b[39m(filename, \u001b[38;5;124m'\u001b[39m\u001b[38;5;124mr\u001b[39m\u001b[38;5;124m'\u001b[39m) \u001b[38;5;28;01mas\u001b[39;00m f:\n\u001b[0;32m     38\u001b[0m     \u001b[38;5;28;01mfor\u001b[39;00m line \u001b[38;5;129;01min\u001b[39;00m f:\n\u001b[1;32m---> 39\u001b[0m         \u001b[38;5;28mself\u001b[39m\u001b[38;5;241m.\u001b[39mshapes\u001b[38;5;241m.\u001b[39mappend(\u001b[38;5;28;43meval\u001b[39;49m\u001b[43m(\u001b[49m\u001b[43mline\u001b[49m\u001b[38;5;241;43m.\u001b[39;49m\u001b[43mstrip\u001b[49m\u001b[43m(\u001b[49m\u001b[43m)\u001b[49m\u001b[43m)\u001b[49m)\n",
      "File \u001b[1;32m<string>:1\u001b[0m\n",
      "\u001b[1;31mTypeError\u001b[0m: Triangle.__init__() got an unexpected keyword argument 'sides'"
     ]
    }
   ],
   "source": [
    "class RasterDrawing:\n",
    "    def __init__(self):\n",
    "        self.shapes = []\n",
    "    \n",
    "    def add_shape(self, shape):\n",
    "        if isinstance(shape, Shape):\n",
    "            self.shapes.append(shape)\n",
    "    \n",
    "    def paint(self):\n",
    "        fig, ax = plt.subplots()\n",
    "        ax.set_aspect('equal', 'box')\n",
    "        ax.set_xlim(-10, 10)\n",
    "        ax.set_ylim(-10, 10)\n",
    "        \n",
    "        for shape in self.shapes:\n",
    "            if isinstance(shape, Rectangle):\n",
    "                rect = plt.Rectangle(shape.get_coordinates(), shape.get_width(), shape.get_length(), fill=None, edgecolor='blue')\n",
    "                ax.add_patch(rect)\n",
    "            elif isinstance(shape, Circle):\n",
    "                circle = plt.Circle(shape.get_coordinates(), shape.get_radius(), fill=None, edgecolor='green')\n",
    "                ax.add_patch(circle)\n",
    "            elif isinstance(shape, Triangle):\n",
    "                points = shape.points_on_perimeter()\n",
    "                triangle = plt.Polygon(points, fill=None, edgecolor='red')\n",
    "                ax.add_patch(triangle)\n",
    "        \n",
    "        plt.grid(True)\n",
    "        plt.show()\n",
    "    \n",
    "    def save(self, filename):\n",
    "        with open(filename, 'w') as f:\n",
    "            for shape in self.shapes:\n",
    "                f.write(repr(shape) + '\\n')\n",
    "    \n",
    "    def load(self, filename):\n",
    "        self.shapes.clear()\n",
    "        with open(filename, 'r') as f:\n",
    "            for line in f:\n",
    "                self.shapes.append(eval(line.strip()))\n",
    "    \n",
    "    def __repr__(self):\n",
    "        return f\"RasterDrawing(shapes={self.shapes})\"\n",
    "\n",
    "# Demonstrating saving and loading functionality\n",
    "drawing = RasterDrawing()\n",
    "drawing.add_shape(Rectangle(4, 2, 1, 1))\n",
    "drawing.add_shape(Circle(1.5, 3, 3))\n",
    "drawing.add_shape(Triangle(4, 2, 4, 5, 6, -1, -1))\n",
    "\n",
    "# Save the drawing to a file\n",
    "drawing.save(\"raster_drawing.txt\")\n",
    "\n",
    "# Create a new drawing and load from the saved file\n",
    "loaded_drawing = RasterDrawing()\n",
    "loaded_drawing.load(\"raster_drawing.txt\")\n",
    "\n",
    "print(\"Loaded Drawing\")\n",
    "loaded_drawing.paint()\n"
   ]
  },
  {
   "cell_type": "code",
   "execution_count": null,
   "metadata": {},
   "outputs": [],
   "source": []
  }
 ],
 "metadata": {
  "kernelspec": {
   "display_name": "Python 3 (ipykernel)",
   "language": "python",
   "name": "python3"
  },
  "language_info": {
   "codemirror_mode": {
    "name": "ipython",
    "version": 3
   },
   "file_extension": ".py",
   "mimetype": "text/x-python",
   "name": "python",
   "nbconvert_exporter": "python",
   "pygments_lexer": "ipython3",
   "version": "3.12.3"
  }
 },
 "nbformat": 4,
 "nbformat_minor": 2
}
